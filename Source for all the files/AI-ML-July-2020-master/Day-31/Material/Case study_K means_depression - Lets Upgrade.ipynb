{
 "cells": [
  {
   "cell_type": "markdown",
   "metadata": {},
   "source": [
    "# Simplicity and Depression - K means "
   ]
  },
  {
   "cell_type": "markdown",
   "metadata": {},
   "source": [
    "# Objective:\n",
    "To determine if there is a relationship between higher levels of black and white thinking and higher levels of self-reported \n",
    "depression in psychiatric patients hospitalized for depression.Also apply K means clustering and assign groups for model prediction"
   ]
  },
  {
   "cell_type": "markdown",
   "metadata": {},
   "source": [
    "# Context:\n",
    "It is common for people who tend to think of their reality as a series of black and white events to suffer from depression. \n",
    "Psybersquare, Inc. describes a few examples of this way of thinking by saying that those who suffer from this way of thinking \n",
    "think that, \"If things aren't 'perfect,' then they must be \"horrible.\" If your child isn't \"brilliant\" then he must be 'stupid.' \n",
    "If you're not 'fascinating' then you must be 'boring.'\" This can be a difficult way to live since those suffering from this way \n",
    "of thinking may never feel that their reality is “good enough”. "
   ]
  },
  {
   "cell_type": "markdown",
   "metadata": {},
   "source": [
    "# Data Sources:\n",
    "The data used for this study is from the Ginzberg data frame which is based on psychiatric patients hospitalized for depression. \n",
    "Data is from the book Applied Regression Analysis and Generalized Linear Models, Second Edition by Fox, J. (2008). The dataset \n",
    "includes three variables - simplicity (black and white thinking), fatalism, and depression. The data also includes these \n",
    "variables each adjusted by regression for other variables thought to influence depression. For the purposes of this study, we \n",
    "will use the non-adjusted values. Ginzberg Dataset on Depression display_output(Ginzberg, out_type) simplicity fatalism \n",
    "depression adjsimp adjfatal adjdep \n",
    "\n",
    "Here, \"Black and white thinking\" is referred as \"Simplicity\""
   ]
  },
  {
   "cell_type": "code",
   "execution_count": 42,
   "metadata": {},
   "outputs": [],
   "source": [
    "# To enable plotting graphs in Jupyter notebook\n",
    "%matplotlib inline "
   ]
  },
  {
   "cell_type": "code",
   "execution_count": 43,
   "metadata": {},
   "outputs": [],
   "source": [
    "# Numerical libraries\n",
    "import numpy as np   \n",
    "\n",
    "from sklearn.model_selection import train_test_split\n",
    "\n",
    "from sklearn.cluster import KMeans\n",
    "\n",
    "# to handle data in form of rows and columns \n",
    "import pandas as pd    \n",
    "\n",
    "# importing ploting libraries\n",
    "import matplotlib.pyplot as plt   \n",
    "\n",
    "#importing seaborn for statistical plots\n",
    "import seaborn as sns\n",
    "\n",
    "from sklearn import metrics\n",
    "\n",
    "import pandas as pd"
   ]
  },
  {
   "cell_type": "code",
   "execution_count": 44,
   "metadata": {},
   "outputs": [],
   "source": [
    "# reading the CSV file into pandas dataframe\n",
    "mydata = pd.read_csv(\"Depression.csv\")"
   ]
  },
  {
   "cell_type": "code",
   "execution_count": 45,
   "metadata": {},
   "outputs": [
    {
     "data": {
      "text/html": [
       "<div>\n",
       "<style scoped>\n",
       "    .dataframe tbody tr th:only-of-type {\n",
       "        vertical-align: middle;\n",
       "    }\n",
       "\n",
       "    .dataframe tbody tr th {\n",
       "        vertical-align: top;\n",
       "    }\n",
       "\n",
       "    .dataframe thead th {\n",
       "        text-align: right;\n",
       "    }\n",
       "</style>\n",
       "<table border=\"1\" class=\"dataframe\">\n",
       "  <thead>\n",
       "    <tr style=\"text-align: right;\">\n",
       "      <th></th>\n",
       "      <th>id</th>\n",
       "      <th>simplicity</th>\n",
       "      <th>fatalism</th>\n",
       "      <th>depression</th>\n",
       "      <th>adjsimp</th>\n",
       "      <th>adjfatal</th>\n",
       "      <th>adjdep</th>\n",
       "    </tr>\n",
       "  </thead>\n",
       "  <tbody>\n",
       "    <tr>\n",
       "      <td>0</td>\n",
       "      <td>1</td>\n",
       "      <td>0.92983</td>\n",
       "      <td>0.35589</td>\n",
       "      <td>0.59870</td>\n",
       "      <td>0.75934</td>\n",
       "      <td>0.10673</td>\n",
       "      <td>0.41865</td>\n",
       "    </tr>\n",
       "    <tr>\n",
       "      <td>1</td>\n",
       "      <td>2</td>\n",
       "      <td>0.91097</td>\n",
       "      <td>1.18439</td>\n",
       "      <td>0.72787</td>\n",
       "      <td>0.72717</td>\n",
       "      <td>0.99915</td>\n",
       "      <td>0.51688</td>\n",
       "    </tr>\n",
       "    <tr>\n",
       "      <td>2</td>\n",
       "      <td>3</td>\n",
       "      <td>0.53366</td>\n",
       "      <td>-0.05837</td>\n",
       "      <td>0.53411</td>\n",
       "      <td>0.62176</td>\n",
       "      <td>0.03811</td>\n",
       "      <td>0.70699</td>\n",
       "    </tr>\n",
       "    <tr>\n",
       "      <td>3</td>\n",
       "      <td>4</td>\n",
       "      <td>0.74118</td>\n",
       "      <td>0.35589</td>\n",
       "      <td>0.56641</td>\n",
       "      <td>0.83522</td>\n",
       "      <td>0.42218</td>\n",
       "      <td>0.65639</td>\n",
       "    </tr>\n",
       "    <tr>\n",
       "      <td>4</td>\n",
       "      <td>5</td>\n",
       "      <td>0.53366</td>\n",
       "      <td>0.77014</td>\n",
       "      <td>0.50182</td>\n",
       "      <td>0.47697</td>\n",
       "      <td>0.81423</td>\n",
       "      <td>0.53518</td>\n",
       "    </tr>\n",
       "  </tbody>\n",
       "</table>\n",
       "</div>"
      ],
      "text/plain": [
       "   id  simplicity  fatalism  depression  adjsimp  adjfatal   adjdep\n",
       "0   1     0.92983   0.35589     0.59870  0.75934   0.10673  0.41865\n",
       "1   2     0.91097   1.18439     0.72787  0.72717   0.99915  0.51688\n",
       "2   3     0.53366  -0.05837     0.53411  0.62176   0.03811  0.70699\n",
       "3   4     0.74118   0.35589     0.56641  0.83522   0.42218  0.65639\n",
       "4   5     0.53366   0.77014     0.50182  0.47697   0.81423  0.53518"
      ]
     },
     "execution_count": 45,
     "metadata": {},
     "output_type": "execute_result"
    }
   ],
   "source": [
    "mydata.head()"
   ]
  },
  {
   "cell_type": "code",
   "execution_count": 46,
   "metadata": {},
   "outputs": [],
   "source": [
    "##Remove id since it is redundant\n",
    "mydata.drop('id', axis=1, inplace=True)"
   ]
  },
  {
   "cell_type": "code",
   "execution_count": 47,
   "metadata": {},
   "outputs": [
    {
     "name": "stdout",
     "output_type": "stream",
     "text": [
      "<class 'pandas.core.frame.DataFrame'>\n",
      "RangeIndex: 82 entries, 0 to 81\n",
      "Data columns (total 6 columns):\n",
      "simplicity    82 non-null float64\n",
      "fatalism      82 non-null float64\n",
      "depression    82 non-null float64\n",
      "adjsimp       82 non-null float64\n",
      "adjfatal      82 non-null float64\n",
      "adjdep        82 non-null float64\n",
      "dtypes: float64(6)\n",
      "memory usage: 4.0 KB\n"
     ]
    }
   ],
   "source": [
    "mydata.info()"
   ]
  },
  {
   "cell_type": "code",
   "execution_count": 48,
   "metadata": {},
   "outputs": [
    {
     "data": {
      "text/html": [
       "<div>\n",
       "<style scoped>\n",
       "    .dataframe tbody tr th:only-of-type {\n",
       "        vertical-align: middle;\n",
       "    }\n",
       "\n",
       "    .dataframe tbody tr th {\n",
       "        vertical-align: top;\n",
       "    }\n",
       "\n",
       "    .dataframe thead th {\n",
       "        text-align: right;\n",
       "    }\n",
       "</style>\n",
       "<table border=\"1\" class=\"dataframe\">\n",
       "  <thead>\n",
       "    <tr style=\"text-align: right;\">\n",
       "      <th></th>\n",
       "      <th>count</th>\n",
       "      <th>mean</th>\n",
       "      <th>std</th>\n",
       "      <th>min</th>\n",
       "      <th>25%</th>\n",
       "      <th>50%</th>\n",
       "      <th>75%</th>\n",
       "      <th>max</th>\n",
       "    </tr>\n",
       "  </thead>\n",
       "  <tbody>\n",
       "    <tr>\n",
       "      <td>simplicity</td>\n",
       "      <td>82.0</td>\n",
       "      <td>1.000000</td>\n",
       "      <td>0.500000</td>\n",
       "      <td>0.25068</td>\n",
       "      <td>0.656282</td>\n",
       "      <td>0.882665</td>\n",
       "      <td>1.26940</td>\n",
       "      <td>2.85408</td>\n",
       "    </tr>\n",
       "    <tr>\n",
       "      <td>fatalism</td>\n",
       "      <td>82.0</td>\n",
       "      <td>1.000000</td>\n",
       "      <td>0.500001</td>\n",
       "      <td>-0.05837</td>\n",
       "      <td>0.563010</td>\n",
       "      <td>0.977270</td>\n",
       "      <td>1.39152</td>\n",
       "      <td>2.22003</td>\n",
       "    </tr>\n",
       "    <tr>\n",
       "      <td>depression</td>\n",
       "      <td>82.0</td>\n",
       "      <td>1.000001</td>\n",
       "      <td>0.500000</td>\n",
       "      <td>0.46953</td>\n",
       "      <td>0.566410</td>\n",
       "      <td>0.824750</td>\n",
       "      <td>1.37373</td>\n",
       "      <td>2.24565</td>\n",
       "    </tr>\n",
       "    <tr>\n",
       "      <td>adjsimp</td>\n",
       "      <td>82.0</td>\n",
       "      <td>1.000000</td>\n",
       "      <td>0.499999</td>\n",
       "      <td>0.23569</td>\n",
       "      <td>0.697958</td>\n",
       "      <td>0.968490</td>\n",
       "      <td>1.20179</td>\n",
       "      <td>2.94977</td>\n",
       "    </tr>\n",
       "    <tr>\n",
       "      <td>adjfatal</td>\n",
       "      <td>82.0</td>\n",
       "      <td>1.000000</td>\n",
       "      <td>0.500000</td>\n",
       "      <td>0.03012</td>\n",
       "      <td>0.731598</td>\n",
       "      <td>0.924290</td>\n",
       "      <td>1.29912</td>\n",
       "      <td>2.24931</td>\n",
       "    </tr>\n",
       "    <tr>\n",
       "      <td>adjdep</td>\n",
       "      <td>82.0</td>\n",
       "      <td>1.000000</td>\n",
       "      <td>0.500000</td>\n",
       "      <td>0.23454</td>\n",
       "      <td>0.596565</td>\n",
       "      <td>0.967845</td>\n",
       "      <td>1.26175</td>\n",
       "      <td>2.78763</td>\n",
       "    </tr>\n",
       "  </tbody>\n",
       "</table>\n",
       "</div>"
      ],
      "text/plain": [
       "            count      mean       std      min       25%       50%      75%  \\\n",
       "simplicity   82.0  1.000000  0.500000  0.25068  0.656282  0.882665  1.26940   \n",
       "fatalism     82.0  1.000000  0.500001 -0.05837  0.563010  0.977270  1.39152   \n",
       "depression   82.0  1.000001  0.500000  0.46953  0.566410  0.824750  1.37373   \n",
       "adjsimp      82.0  1.000000  0.499999  0.23569  0.697958  0.968490  1.20179   \n",
       "adjfatal     82.0  1.000000  0.500000  0.03012  0.731598  0.924290  1.29912   \n",
       "adjdep       82.0  1.000000  0.500000  0.23454  0.596565  0.967845  1.26175   \n",
       "\n",
       "                max  \n",
       "simplicity  2.85408  \n",
       "fatalism    2.22003  \n",
       "depression  2.24565  \n",
       "adjsimp     2.94977  \n",
       "adjfatal    2.24931  \n",
       "adjdep      2.78763  "
      ]
     },
     "execution_count": 48,
     "metadata": {},
     "output_type": "execute_result"
    }
   ],
   "source": [
    "mydata.describe().transpose()"
   ]
  },
  {
   "cell_type": "code",
   "execution_count": 49,
   "metadata": {},
   "outputs": [
    {
     "data": {
      "text/html": [
       "<div>\n",
       "<style scoped>\n",
       "    .dataframe tbody tr th:only-of-type {\n",
       "        vertical-align: middle;\n",
       "    }\n",
       "\n",
       "    .dataframe tbody tr th {\n",
       "        vertical-align: top;\n",
       "    }\n",
       "\n",
       "    .dataframe thead th {\n",
       "        text-align: right;\n",
       "    }\n",
       "</style>\n",
       "<table border=\"1\" class=\"dataframe\">\n",
       "  <thead>\n",
       "    <tr style=\"text-align: right;\">\n",
       "      <th></th>\n",
       "      <th>simplicity</th>\n",
       "      <th>fatalism</th>\n",
       "      <th>depression</th>\n",
       "      <th>adjsimp</th>\n",
       "      <th>adjfatal</th>\n",
       "      <th>adjdep</th>\n",
       "    </tr>\n",
       "  </thead>\n",
       "  <tbody>\n",
       "    <tr>\n",
       "      <td>0</td>\n",
       "      <td>-0.141205</td>\n",
       "      <td>-1.296147</td>\n",
       "      <td>-0.807541</td>\n",
       "      <td>-0.484282</td>\n",
       "      <td>-1.797534</td>\n",
       "      <td>-1.169856</td>\n",
       "    </tr>\n",
       "    <tr>\n",
       "      <td>1</td>\n",
       "      <td>-0.179157</td>\n",
       "      <td>0.371048</td>\n",
       "      <td>-0.547611</td>\n",
       "      <td>-0.549018</td>\n",
       "      <td>-0.001710</td>\n",
       "      <td>-0.972187</td>\n",
       "    </tr>\n",
       "    <tr>\n",
       "      <td>2</td>\n",
       "      <td>-0.938421</td>\n",
       "      <td>-2.129764</td>\n",
       "      <td>-0.937516</td>\n",
       "      <td>-0.761136</td>\n",
       "      <td>-1.935619</td>\n",
       "      <td>-0.589627</td>\n",
       "    </tr>\n",
       "    <tr>\n",
       "      <td>3</td>\n",
       "      <td>-0.520827</td>\n",
       "      <td>-1.296147</td>\n",
       "      <td>-0.872518</td>\n",
       "      <td>-0.331588</td>\n",
       "      <td>-1.162751</td>\n",
       "      <td>-0.691450</td>\n",
       "    </tr>\n",
       "    <tr>\n",
       "      <td>4</td>\n",
       "      <td>-0.938421</td>\n",
       "      <td>-0.462549</td>\n",
       "      <td>-1.002493</td>\n",
       "      <td>-1.052499</td>\n",
       "      <td>-0.373826</td>\n",
       "      <td>-0.935361</td>\n",
       "    </tr>\n",
       "  </tbody>\n",
       "</table>\n",
       "</div>"
      ],
      "text/plain": [
       "   simplicity  fatalism  depression   adjsimp  adjfatal    adjdep\n",
       "0   -0.141205 -1.296147   -0.807541 -0.484282 -1.797534 -1.169856\n",
       "1   -0.179157  0.371048   -0.547611 -0.549018 -0.001710 -0.972187\n",
       "2   -0.938421 -2.129764   -0.937516 -0.761136 -1.935619 -0.589627\n",
       "3   -0.520827 -1.296147   -0.872518 -0.331588 -1.162751 -0.691450\n",
       "4   -0.938421 -0.462549   -1.002493 -1.052499 -0.373826 -0.935361"
      ]
     },
     "execution_count": 49,
     "metadata": {},
     "output_type": "execute_result"
    }
   ],
   "source": [
    "##Scale the data\n",
    "from scipy.stats import zscore\n",
    "\n",
    "mydata_z = mydata.apply(zscore)\n",
    "mydata_z.head()"
   ]
  },
  {
   "cell_type": "code",
   "execution_count": 50,
   "metadata": {},
   "outputs": [
    {
     "data": {
      "text/plain": [
       "Text(0.5, 1.0, 'Selecting k with the Elbow Method')"
      ]
     },
     "execution_count": 50,
     "metadata": {},
     "output_type": "execute_result"
    },
    {
     "data": {
      "image/png": "[encoded data removed]",
      "text/plain": [
       "<Figure size 432x288 with 1 Axes>"
      ]
     },
     "metadata": {
      "needs_background": "light"
     },
     "output_type": "display_data"
    }
   ],
   "source": [
    "#Finding optimal no. of clusters\n",
    "from scipy.spatial.distance import cdist\n",
    "clusters=range(1,10)\n",
    "meanDistortions=[]\n",
    "\n",
    "for k in clusters:\n",
    "    model=KMeans(n_clusters=k)\n",
    "    model.fit(mydata)\n",
    "    prediction=model.predict(mydata)\n",
    "    meanDistortions.append(sum(np.min(cdist(mydata, model.cluster_centers_, 'euclidean'), axis=1)) / mydata\n",
    "                           .shape[0])\n",
    "\n",
    "\n",
    "plt.plot(clusters, meanDistortions, 'bx-')\n",
    "plt.xlabel('k')\n",
    "plt.ylabel('Average distortion')\n",
    "plt.title('Selecting k with the Elbow Method')"
   ]
  },
  {
   "cell_type": "code",
   "execution_count": 51,
   "metadata": {},
   "outputs": [],
   "source": [
    "#Set the value of k=3\n",
    "kmeans = KMeans(n_clusters=3, n_init = 15, random_state=2345)"
   ]
  },
  {
   "cell_type": "code",
   "execution_count": 52,
   "metadata": {},
   "outputs": [
    {
     "data": {
      "text/plain": [
       "KMeans(algorithm='auto', copy_x=True, init='k-means++', max_iter=300,\n",
       "       n_clusters=3, n_init=15, n_jobs=None, precompute_distances='auto',\n",
       "       random_state=2345, tol=0.0001, verbose=0)"
      ]
     },
     "execution_count": 52,
     "metadata": {},
     "output_type": "execute_result"
    }
   ],
   "source": [
    "kmeans.fit(mydata_z)"
   ]
  },
  {
   "cell_type": "code",
   "execution_count": 53,
   "metadata": {},
   "outputs": [],
   "source": [
    "centroids = kmeans.cluster_centers_"
   ]
  },
  {
   "cell_type": "code",
   "execution_count": 54,
   "metadata": {},
   "outputs": [
    {
     "data": {
      "text/plain": [
       "array([[-0.00240129,  0.30593064,  0.47588456, -0.15570731,  0.21543758,\n",
       "         0.41698529],\n",
       "       [-0.60393647, -0.72164273, -0.90062454, -0.48447657, -0.63244733,\n",
       "        -0.83635699],\n",
       "       [ 1.72480697,  1.30084619,  1.39190785,  1.7621744 ,  1.26973449,\n",
       "         1.35397533]])"
      ]
     },
     "execution_count": 54,
     "metadata": {},
     "output_type": "execute_result"
    }
   ],
   "source": [
    "centroids"
   ]
  },
  {
   "cell_type": "code",
   "execution_count": 55,
   "metadata": {},
   "outputs": [],
   "source": [
    "#Clculate the centroids for the columns to profile\n",
    "centroid_df = pd.DataFrame(centroids, columns = list(mydata_z) )"
   ]
  },
  {
   "cell_type": "code",
   "execution_count": 56,
   "metadata": {},
   "outputs": [
    {
     "name": "stdout",
     "output_type": "stream",
     "text": [
      "   simplicity  fatalism  depression   adjsimp  adjfatal    adjdep\n",
      "0   -0.002401  0.305931    0.475885 -0.155707  0.215438  0.416985\n",
      "1   -0.603936 -0.721643   -0.900625 -0.484477 -0.632447 -0.836357\n",
      "2    1.724807  1.300846    1.391908  1.762174  1.269734  1.353975\n"
     ]
    }
   ],
   "source": [
    "print(centroid_df)"
   ]
  },
  {
   "cell_type": "markdown",
   "metadata": {},
   "source": [
    "#### Cluster 1 has the lowest values and cluster 2 has the highest values"
   ]
  },
  {
   "cell_type": "code",
   "execution_count": 57,
   "metadata": {},
   "outputs": [],
   "source": [
    "## creating a new dataframe only for labels and converting it into categorical variable\n",
    "df_labels = pd.DataFrame(kmeans.labels_ , columns = list(['labels']))\n",
    "\n",
    "df_labels['labels'] = df_labels['labels'].astype('category')"
   ]
  },
  {
   "cell_type": "code",
   "execution_count": 58,
   "metadata": {},
   "outputs": [],
   "source": [
    "# Joining the label dataframe with the data frame.\n",
    "df_labeled = mydata.join(df_labels)"
   ]
  },
  {
   "cell_type": "code",
   "execution_count": 59,
   "metadata": {},
   "outputs": [
    {
     "data": {
      "text/html": [
       "<div>\n",
       "<style scoped>\n",
       "    .dataframe tbody tr th:only-of-type {\n",
       "        vertical-align: middle;\n",
       "    }\n",
       "\n",
       "    .dataframe tbody tr th {\n",
       "        vertical-align: top;\n",
       "    }\n",
       "\n",
       "    .dataframe thead th {\n",
       "        text-align: right;\n",
       "    }\n",
       "</style>\n",
       "<table border=\"1\" class=\"dataframe\">\n",
       "  <thead>\n",
       "    <tr style=\"text-align: right;\">\n",
       "      <th></th>\n",
       "      <th>simplicity</th>\n",
       "      <th>fatalism</th>\n",
       "      <th>depression</th>\n",
       "      <th>adjsimp</th>\n",
       "      <th>adjfatal</th>\n",
       "      <th>adjdep</th>\n",
       "      <th>labels</th>\n",
       "    </tr>\n",
       "  </thead>\n",
       "  <tbody>\n",
       "    <tr>\n",
       "      <td>0</td>\n",
       "      <td>0.92983</td>\n",
       "      <td>0.35589</td>\n",
       "      <td>0.59870</td>\n",
       "      <td>0.75934</td>\n",
       "      <td>0.10673</td>\n",
       "      <td>0.41865</td>\n",
       "      <td>1</td>\n",
       "    </tr>\n",
       "    <tr>\n",
       "      <td>1</td>\n",
       "      <td>0.91097</td>\n",
       "      <td>1.18439</td>\n",
       "      <td>0.72787</td>\n",
       "      <td>0.72717</td>\n",
       "      <td>0.99915</td>\n",
       "      <td>0.51688</td>\n",
       "      <td>1</td>\n",
       "    </tr>\n",
       "  </tbody>\n",
       "</table>\n",
       "</div>"
      ],
      "text/plain": [
       "   simplicity  fatalism  depression  adjsimp  adjfatal   adjdep labels\n",
       "0     0.92983   0.35589     0.59870  0.75934   0.10673  0.41865      1\n",
       "1     0.91097   1.18439     0.72787  0.72717   0.99915  0.51688      1"
      ]
     },
     "execution_count": 59,
     "metadata": {},
     "output_type": "execute_result"
    }
   ],
   "source": [
    "df_analysis = (df_labeled.groupby(['labels'] , axis=0)).head(200)  # the groupby creates a groupeddataframe that needs \n",
    "# to be converted back to dataframe. \n",
    "df_analysis.head(2)"
   ]
  },
  {
   "cell_type": "code",
   "execution_count": 60,
   "metadata": {},
   "outputs": [
    {
     "data": {
      "text/plain": [
       "1    37\n",
       "0    32\n",
       "2    13\n",
       "Name: labels, dtype: int64"
      ]
     },
     "execution_count": 60,
     "metadata": {},
     "output_type": "execute_result"
    }
   ],
   "source": [
    "df_labeled['labels'].value_counts()  "
   ]
  },
  {
   "cell_type": "code",
   "execution_count": 61,
   "metadata": {},
   "outputs": [],
   "source": [
    "from mpl_toolkits.mplot3d import Axes3D"
   ]
  },
  {
   "cell_type": "code",
   "execution_count": 62,
   "metadata": {},
   "outputs": [
    {
     "data": {
      "text/plain": [
       "Text(0.5, 0.92, '3D plot of KMeans Clustering')"
      ]
     },
     "execution_count": 62,
     "metadata": {},
     "output_type": "execute_result"
    },
    {
     "data": {
      "image/png": "[encoded data removed]",
      "text/plain": [
       "<Figure size 576x432 with 1 Axes>"
      ]
     },
     "metadata": {
      "needs_background": "light"
     },
     "output_type": "display_data"
    }
   ],
   "source": [
    "## 3D plots of clusters\n",
    "fig = plt.figure(figsize=(8, 6))\n",
    "ax = Axes3D(fig, rect=[0, 0, .95, 1], elev=20, azim=60)\n",
    "kmeans.fit(mydata_z)\n",
    "labels = kmeans.labels_\n",
    "ax.scatter(mydata_z.iloc[:, 0], mydata_z.iloc[:, 1], mydata_z.iloc[:, 3],c=labels.astype(np.float), edgecolor='k')\n",
    "ax.w_xaxis.set_ticklabels([])\n",
    "ax.w_yaxis.set_ticklabels([])\n",
    "ax.w_zaxis.set_ticklabels([])\n",
    "ax.set_xlabel('Length')\n",
    "ax.set_ylabel('Height')\n",
    "ax.set_zlabel('Weight')\n",
    "ax.set_title('3D plot of KMeans Clustering')"
   ]
  },
  {
   "cell_type": "code",
   "execution_count": 63,
   "metadata": {},
   "outputs": [
    {
     "name": "stdout",
     "output_type": "stream",
     "text": [
      "For n_clusters=2, The Silhouette Coefficient is 0.4194383356887897\n",
      "For n_clusters=3, The Silhouette Coefficient is 0.32372520339820604\n",
      "For n_clusters=4, The Silhouette Coefficient is 0.2895772951921322\n",
      "For n_clusters=5, The Silhouette Coefficient is 0.24247793471621037\n",
      "For n_clusters=6, The Silhouette Coefficient is 0.24158510147358406\n",
      "For n_clusters=7, The Silhouette Coefficient is 0.23985379972551252\n",
      "For n_clusters=8, The Silhouette Coefficient is 0.2653818931598338\n",
      "For n_clusters=9, The Silhouette Coefficient is 0.2547101183810168\n",
      "For n_clusters=10, The Silhouette Coefficient is 0.2602773002633042\n"
     ]
    }
   ],
   "source": [
    "#Calculating the silhoutte coefficient\n",
    "from sklearn.metrics import silhouette_score\n",
    "from sklearn.cluster import KMeans\n",
    "\n",
    "\n",
    "\n",
    "for n_cluster in range(2, 11):\n",
    "    kmeans = KMeans(n_clusters=n_cluster).fit(mydata_z)\n",
    "    label = kmeans.labels_\n",
    "    sil_coeff = silhouette_score(mydata_z, label, metric='euclidean')\n",
    "    print(\"For n_clusters={}, The Silhouette Coefficient is {}\".format(n_cluster, sil_coeff))"
   ]
  },
  {
   "cell_type": "code",
   "execution_count": null,
   "metadata": {},
   "outputs": [],
   "source": []
  },
  {
   "cell_type": "code",
   "execution_count": null,
   "metadata": {},
   "outputs": [],
   "source": []
  }
 ],
 "metadata": {
  "kernelspec": {
   "display_name": "Python 3",
   "language": "python",
   "name": "python3"
  },
  "language_info": {
   "codemirror_mode": {
    "name": "ipython",
    "version": 3
   },
   "file_extension": ".py",
   "mimetype": "text/x-python",
   "name": "python",
   "nbconvert_exporter": "python",
   "pygments_lexer": "ipython3",
   "version": "3.7.4"
  }
 },
 "nbformat": 4,
 "nbformat_minor": 2
}
