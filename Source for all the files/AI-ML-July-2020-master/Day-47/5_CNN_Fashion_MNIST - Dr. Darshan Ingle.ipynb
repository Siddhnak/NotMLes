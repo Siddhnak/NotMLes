{
  "nbformat": 4,
  "nbformat_minor": 0,
  "metadata": {
    "colab": {
      "name": "5 CNN_Fashion_MNIST.ipynb",
      "provenance": [],
      "collapsed_sections": []
    },
    "kernelspec": {
      "name": "python3",
      "display_name": "Python 3"
    }
  },
  "cells": [
    {
      "cell_type": "code",
      "metadata": {
        "id": "_nyz39ajJymL",
        "outputId": "0c645464-1fe2-442f-a1fc-f09ce3924dd4",
        "colab": {
          "base_uri": "https://localhost:8080/",
          "height": 34
        }
      },
      "source": [
        "import tensorflow as tf\n",
        "print(tf.__version__)"
      ],
      "execution_count": null,
      "outputs": [
        {
          "output_type": "stream",
          "text": [
            "2.3.0\n"
          ],
          "name": "stdout"
        }
      ]
    },
    {
      "cell_type": "code",
      "metadata": {
        "id": "xb9WT63CJ9tH"
      },
      "source": [
        "import numpy as np\n",
        "import matplotlib.pyplot as plt\n",
        "from tensorflow.keras.layers import Input, Conv2D, Dense, Flatten, Dropout\n",
        "from tensorflow.keras.models import  Model"
      ],
      "execution_count": null,
      "outputs": []
    },
    {
      "cell_type": "markdown",
      "metadata": {
        "id": "kMLqnmI5KfBV"
      },
      "source": [
        "Fashion MNIST 28 x 28 grayscale images of different types of clothings like shirts, t shirts, pants, etc.\n",
        "\n",
        "Task: Classification."
      ]
    },
    {
      "cell_type": "code",
      "metadata": {
        "id": "E14GWVsFKYWD"
      },
      "source": [
        "fashion_mnist = tf.keras.datasets.fashion_mnist"
      ],
      "execution_count": null,
      "outputs": []
    },
    {
      "cell_type": "code",
      "metadata": {
        "id": "_BgC9rXSK3Wo",
        "outputId": "edbf27e8-b4be-4cf8-eff9-31c3b65ca9a2",
        "colab": {
          "base_uri": "https://localhost:8080/",
          "height": 158
        }
      },
      "source": [
        "(x_train, y_train) , (x_test, y_test) = fashion_mnist.load_data()"
      ],
      "execution_count": null,
      "outputs": [
        {
          "output_type": "stream",
          "text": [
            "Downloading data from https://storage.googleapis.com/tensorflow/tf-keras-datasets/train-labels-idx1-ubyte.gz\n",
            "32768/29515 [=================================] - 0s 0us/step\n",
            "Downloading data from https://storage.googleapis.com/tensorflow/tf-keras-datasets/train-images-idx3-ubyte.gz\n",
            "26427392/26421880 [==============================] - 1s 0us/step\n",
            "Downloading data from https://storage.googleapis.com/tensorflow/tf-keras-datasets/t10k-labels-idx1-ubyte.gz\n",
            "8192/5148 [===============================================] - 0s 0us/step\n",
            "Downloading data from https://storage.googleapis.com/tensorflow/tf-keras-datasets/t10k-images-idx3-ubyte.gz\n",
            "4423680/4422102 [==============================] - 0s 0us/step\n"
          ],
          "name": "stdout"
        }
      ]
    },
    {
      "cell_type": "code",
      "metadata": {
        "id": "tKdUcAanLAnd",
        "outputId": "07ca9ae4-698f-4f85-9155-ea7d2612a93a",
        "colab": {
          "base_uri": "https://localhost:8080/",
          "height": 34
        }
      },
      "source": [
        "x_train.shape"
      ],
      "execution_count": null,
      "outputs": [
        {
          "output_type": "execute_result",
          "data": {
            "text/plain": [
              "(60000, 28, 28)"
            ]
          },
          "metadata": {
            "tags": []
          },
          "execution_count": 5
        }
      ]
    },
    {
      "cell_type": "code",
      "metadata": {
        "id": "qXmphtp8LMAP"
      },
      "source": [
        "# Standardization, apply scaling\n",
        "x_train, x_test = x_train /255.0, x_test/255.0"
      ],
      "execution_count": null,
      "outputs": []
    },
    {
      "cell_type": "code",
      "metadata": {
        "id": "_k8JwNEsLk8h",
        "outputId": "cd6f8ee8-b8fc-495f-e015-2a93d9263491",
        "colab": {
          "base_uri": "https://localhost:8080/",
          "height": 34
        }
      },
      "source": [
        "x_train.shape"
      ],
      "execution_count": null,
      "outputs": [
        {
          "output_type": "execute_result",
          "data": {
            "text/plain": [
              "(60000, 28, 28)"
            ]
          },
          "metadata": {
            "tags": []
          },
          "execution_count": 12
        }
      ]
    },
    {
      "cell_type": "code",
      "metadata": {
        "id": "EVE8rLtILw6r",
        "outputId": "c8a67843-75f9-4fd7-95da-49cbf3fab506",
        "colab": {
          "base_uri": "https://localhost:8080/",
          "height": 34
        }
      },
      "source": [
        "x_test.shape"
      ],
      "execution_count": null,
      "outputs": [
        {
          "output_type": "execute_result",
          "data": {
            "text/plain": [
              "(10000, 28, 28)"
            ]
          },
          "metadata": {
            "tags": []
          },
          "execution_count": 13
        }
      ]
    },
    {
      "cell_type": "markdown",
      "metadata": {
        "id": "4KwLI5y9Me6s"
      },
      "source": [
        "x_train.shape is N x H x Warning\n",
        "CNN requires a shape N x H x W x C.\n",
        "\n",
        "Therefore we need to add a superfluous layers."
      ]
    },
    {
      "cell_type": "code",
      "metadata": {
        "id": "F-lReipFLyUR"
      },
      "source": [
        "x_train = np.expand_dims(x_train, -1)\n",
        "x_test = np.expand_dims(x_test, -1)"
      ],
      "execution_count": null,
      "outputs": []
    },
    {
      "cell_type": "code",
      "metadata": {
        "id": "B4KkMNFaMrld",
        "outputId": "a977df49-13ee-4c8e-b98f-b582594a675c",
        "colab": {
          "base_uri": "https://localhost:8080/",
          "height": 34
        }
      },
      "source": [
        "x_train.shape"
      ],
      "execution_count": null,
      "outputs": [
        {
          "output_type": "execute_result",
          "data": {
            "text/plain": [
              "(60000, 28, 28, 1)"
            ]
          },
          "metadata": {
            "tags": []
          },
          "execution_count": 17
        }
      ]
    },
    {
      "cell_type": "code",
      "metadata": {
        "id": "fgcpqFtbNCZd",
        "outputId": "65d0eb4c-ea2d-4bb8-8fc5-c0b9ae22248d",
        "colab": {
          "base_uri": "https://localhost:8080/",
          "height": 34
        }
      },
      "source": [
        "x_test.shape"
      ],
      "execution_count": null,
      "outputs": [
        {
          "output_type": "execute_result",
          "data": {
            "text/plain": [
              "(10000, 28, 28, 1)"
            ]
          },
          "metadata": {
            "tags": []
          },
          "execution_count": 18
        }
      ]
    },
    {
      "cell_type": "code",
      "metadata": {
        "id": "o5vrZ34BNDmv",
        "outputId": "2b704429-d5cb-4f4d-bb92-61bb0d3e802d",
        "colab": {
          "base_uri": "https://localhost:8080/",
          "height": 34
        }
      },
      "source": [
        "# Number of classes\n",
        "K = len(set(y_train))\n",
        "print(\"number of classes:\",K)"
      ],
      "execution_count": null,
      "outputs": [
        {
          "output_type": "stream",
          "text": [
            "number of classes: 10\n"
          ],
          "name": "stdout"
        }
      ]
    },
    {
      "cell_type": "markdown",
      "metadata": {
        "id": "XkPTTJP6Nsaq"
      },
      "source": [
        "We will be using the Functional API.\n",
        "\n",
        "Why?\n",
        "\n",
        "a. Code looks cleaner and compact\n",
        "\n",
        "b. It allows us to create branches.\n",
        "\n",
        "c. It allows you to define model that can have multiple inputs and outputs."
      ]
    },
    {
      "cell_type": "code",
      "metadata": {
        "id": "4U_SLLWvNdAO",
        "outputId": "6c0b54ad-f6c0-434f-9fb9-0456d5d34d97",
        "colab": {
          "base_uri": "https://localhost:8080/",
          "height": 34
        }
      },
      "source": [
        "x_train.shape"
      ],
      "execution_count": null,
      "outputs": [
        {
          "output_type": "execute_result",
          "data": {
            "text/plain": [
              "(60000, 28, 28, 1)"
            ]
          },
          "metadata": {
            "tags": []
          },
          "execution_count": 21
        }
      ]
    },
    {
      "cell_type": "code",
      "metadata": {
        "id": "Iy5A8SfpODMM",
        "outputId": "591382de-e192-4d18-d318-00cca8a953a4",
        "colab": {
          "base_uri": "https://localhost:8080/",
          "height": 34
        }
      },
      "source": [
        "x_train[0].shape"
      ],
      "execution_count": null,
      "outputs": [
        {
          "output_type": "execute_result",
          "data": {
            "text/plain": [
              "(28, 28, 1)"
            ]
          },
          "metadata": {
            "tags": []
          },
          "execution_count": 26
        }
      ]
    },
    {
      "cell_type": "code",
      "metadata": {
        "id": "W3iLASztOWb6"
      },
      "source": [
        "# Build the model using functional API\n",
        "\n",
        "i = Input(shape=x_train[0].shape)\n",
        "x = Conv2D(32, (3,3), strides=2, activation='relu')(i)\n",
        "x = Conv2D(64, (3,3), strides=2, activation='relu')(x)\n",
        "x = Conv2D(128, (3,3), strides=2, activation='relu')(x)\n",
        "x = Flatten()(x)\n",
        "x = Dropout(0.2)(x)\n",
        "# Dense layers NN design commences here\n",
        "x = Dense(512, activation='relu')(x)\n",
        "x = Dropout(0.2)(x)\n",
        "x = Dense(K, activation='softmax')(x) # Output layer\n",
        "\n",
        "# Once we have the variable representing the input \"i\"\n",
        "# and the variable representing the output \"x\",\n",
        "# we can pass these into the Model() constructor\n",
        "\n",
        "model = Model(i,x)"
      ],
      "execution_count": null,
      "outputs": []
    },
    {
      "cell_type": "code",
      "metadata": {
        "id": "B0o9q6gpRD1U",
        "outputId": "3e033b7b-409f-4d10-a1d7-6b3ed7c9ac2b",
        "colab": {
          "base_uri": "https://localhost:8080/",
          "height": 565
        }
      },
      "source": [
        "# Compile and fit\n",
        "model.compile(optimizer='adam',\n",
        "              loss='sparse_categorical_crossentropy',\n",
        "              metrics=['accuracy']\n",
        "              )\n",
        "\n",
        "r = model.fit(x_train, y_train, validation_data=(x_test, y_test), epochs=15)"
      ],
      "execution_count": null,
      "outputs": [
        {
          "output_type": "stream",
          "text": [
            "Epoch 1/15\n",
            "1875/1875 [==============================] - 27s 14ms/step - loss: 0.5229 - accuracy: 0.8055 - val_loss: 0.4021 - val_accuracy: 0.8527\n",
            "Epoch 2/15\n",
            "1875/1875 [==============================] - 27s 14ms/step - loss: 0.3654 - accuracy: 0.8630 - val_loss: 0.3416 - val_accuracy: 0.8723\n",
            "Epoch 3/15\n",
            "1875/1875 [==============================] - 27s 14ms/step - loss: 0.3114 - accuracy: 0.8840 - val_loss: 0.3323 - val_accuracy: 0.8767\n",
            "Epoch 4/15\n",
            "1875/1875 [==============================] - 27s 14ms/step - loss: 0.2779 - accuracy: 0.8958 - val_loss: 0.2968 - val_accuracy: 0.8917\n",
            "Epoch 5/15\n",
            "1875/1875 [==============================] - 27s 14ms/step - loss: 0.2518 - accuracy: 0.9057 - val_loss: 0.2911 - val_accuracy: 0.8952\n",
            "Epoch 6/15\n",
            "1875/1875 [==============================] - 27s 14ms/step - loss: 0.2293 - accuracy: 0.9130 - val_loss: 0.3126 - val_accuracy: 0.8889\n",
            "Epoch 7/15\n",
            "1875/1875 [==============================] - 27s 14ms/step - loss: 0.2118 - accuracy: 0.9185 - val_loss: 0.2945 - val_accuracy: 0.8972\n",
            "Epoch 8/15\n",
            "1875/1875 [==============================] - 27s 14ms/step - loss: 0.1925 - accuracy: 0.9266 - val_loss: 0.3063 - val_accuracy: 0.8953\n",
            "Epoch 9/15\n",
            "1875/1875 [==============================] - 27s 14ms/step - loss: 0.1798 - accuracy: 0.9304 - val_loss: 0.3265 - val_accuracy: 0.8939\n",
            "Epoch 10/15\n",
            "1875/1875 [==============================] - 27s 14ms/step - loss: 0.1645 - accuracy: 0.9361 - val_loss: 0.3224 - val_accuracy: 0.8976\n",
            "Epoch 11/15\n",
            "1875/1875 [==============================] - 27s 14ms/step - loss: 0.1586 - accuracy: 0.9398 - val_loss: 0.3240 - val_accuracy: 0.9010\n",
            "Epoch 12/15\n",
            "1875/1875 [==============================] - 27s 14ms/step - loss: 0.1480 - accuracy: 0.9436 - val_loss: 0.3385 - val_accuracy: 0.8980\n",
            "Epoch 13/15\n",
            "1875/1875 [==============================] - 27s 14ms/step - loss: 0.1362 - accuracy: 0.9477 - val_loss: 0.3547 - val_accuracy: 0.8954\n",
            "Epoch 14/15\n",
            "1875/1875 [==============================] - 27s 14ms/step - loss: 0.1287 - accuracy: 0.9518 - val_loss: 0.3806 - val_accuracy: 0.8944\n",
            "Epoch 15/15\n",
            "1875/1875 [==============================] - 27s 14ms/step - loss: 0.1231 - accuracy: 0.9519 - val_loss: 0.3912 - val_accuracy: 0.8937\n"
          ],
          "name": "stdout"
        }
      ]
    },
    {
      "cell_type": "markdown",
      "metadata": {
        "id": "xGN2w9Q1UREV"
      },
      "source": [
        "Observation:  We are getting a decent accuracy."
      ]
    },
    {
      "cell_type": "code",
      "metadata": {
        "id": "8-_WdDEzRqoq",
        "outputId": "6136af46-65f6-4e17-b8d0-10bad8aca884",
        "colab": {
          "base_uri": "https://localhost:8080/",
          "height": 282
        }
      },
      "source": [
        "# Plot loss per iteration\n",
        "plt.plot(r.history['loss'], label='loss')\n",
        "plt.plot(r.history['val_loss'], label='val_loss')\n",
        "plt.legend()"
      ],
      "execution_count": null,
      "outputs": [
        {
          "output_type": "execute_result",
          "data": {
            "text/plain": [
              "<matplotlib.legend.Legend at 0x7fe0fb3638d0>"
            ]
          },
          "metadata": {
            "tags": []
          },
          "execution_count": 29
        },
        {
          "output_type": "display_data",
          "data": {
            "image/png": "[encoded data removed]",
            "text/plain": [
              "<Figure size 432x288 with 1 Axes>"
            ]
          },
          "metadata": {
            "tags": [],
            "needs_background": "light"
          }
        }
      ]
    },
    {
      "cell_type": "markdown",
      "metadata": {
        "id": "Fx5bgjyNU7oQ"
      },
      "source": [
        "Observation: It appears that the model is Overfitting a little bit since we see that the validation loss is slightly going up."
      ]
    },
    {
      "cell_type": "code",
      "metadata": {
        "id": "mwkOgc7jSF6v",
        "outputId": "ea9dfd83-ede2-49a5-ec69-ca7b709ccac2",
        "colab": {
          "base_uri": "https://localhost:8080/",
          "height": 282
        }
      },
      "source": [
        "# Plot accuracy per iteration\n",
        "plt.plot(r.history['accuracy'], label='accuracy')\n",
        "plt.plot(r.history['val_accuracy'], label='val_accuracy')\n",
        "plt.legend()"
      ],
      "execution_count": null,
      "outputs": [
        {
          "output_type": "execute_result",
          "data": {
            "text/plain": [
              "<matplotlib.legend.Legend at 0x7fe0fae47cf8>"
            ]
          },
          "metadata": {
            "tags": []
          },
          "execution_count": 30
        },
        {
          "output_type": "display_data",
          "data": {
            "image/png": "[encoded data removed]",
            "text/plain": [
              "<Figure size 432x288 with 1 Axes>"
            ]
          },
          "metadata": {
            "tags": [],
            "needs_background": "light"
          }
        }
      ]
    },
    {
      "cell_type": "markdown",
      "metadata": {
        "id": "ApGI4TDuVIUH"
      },
      "source": [
        "Observation: It appears that the validation accuracy stays standard but at the same time, the validation loss increases. It means that our model is becoming more and more confident in its incorrect predictions."
      ]
    },
    {
      "cell_type": "code",
      "metadata": {
        "id": "m-ENhQUlSy9J",
        "outputId": "034e8630-e83c-4fa8-8030-34466221ec34",
        "colab": {
          "base_uri": "https://localhost:8080/",
          "height": 504
        }
      },
      "source": [
        "# Plot confusion matrix\n",
        "from sklearn.metrics import confusion_matrix\n",
        "import itertools\n",
        "\n",
        "def plot_confusion_matrix(cm, classes,\n",
        "                          normalize=False,\n",
        "                          title='Confusion matrix',\n",
        "                          cmap=plt.cm.Blues):\n",
        "  \"\"\"\n",
        "  This function prints and plots the confusion matrix.\n",
        "  Normalization can be applied by setting `normalize=True`.\n",
        "  \"\"\"\n",
        "  if normalize:\n",
        "      cm = cm.astype('float') / cm.sum(axis=1)[:, np.newaxis]\n",
        "      print(\"Normalized confusion matrix\")\n",
        "  else:\n",
        "      print('Confusion matrix, without normalization')\n",
        "\n",
        "  print(cm)\n",
        "\n",
        "  plt.imshow(cm, interpolation='nearest', cmap=cmap)\n",
        "  plt.title(title)\n",
        "  plt.colorbar()\n",
        "  tick_marks = np.arange(len(classes))\n",
        "  plt.xticks(tick_marks, classes, rotation=45)\n",
        "  plt.yticks(tick_marks, classes)\n",
        "\n",
        "  fmt = '.2f' if normalize else 'd'\n",
        "  thresh = cm.max() / 2.\n",
        "  for i, j in itertools.product(range(cm.shape[0]), range(cm.shape[1])):\n",
        "      plt.text(j, i, format(cm[i, j], fmt),\n",
        "               horizontalalignment=\"center\",\n",
        "               color=\"white\" if cm[i, j] > thresh else \"black\")\n",
        "\n",
        "  plt.tight_layout()\n",
        "  plt.ylabel('True label')\n",
        "  plt.xlabel('Predicted label')\n",
        "  plt.show()\n",
        "\n",
        "\n",
        "p_test = model.predict(x_test).argmax(axis=1)\n",
        "cm = confusion_matrix(y_test, p_test)\n",
        "plot_confusion_matrix(cm, list(range(10)))\n",
        "\n"
      ],
      "execution_count": null,
      "outputs": [
        {
          "output_type": "stream",
          "text": [
            "Confusion matrix, without normalization\n",
            "[[895   2  23  22   0   1  46   0  11   0]\n",
            " [  6 973   1  13   4   0   1   0   2   0]\n",
            " [ 20   0 893  11  32   0  39   0   5   0]\n",
            " [ 25   4  24 902  25   1  16   0   3   0]\n",
            " [  3   0 107  33 801   1  52   0   3   0]\n",
            " [  1   0   0   1   0 963   0  19   0  16]\n",
            " [167   0  90  28  89   1 614   0  11   0]\n",
            " [  0   0   0   0   0   9   0 963   0  28]\n",
            " [  6   1   7   1   1   3   3   4 974   0]\n",
            " [  0   0   1   0   0   6   0  34   0 959]]\n"
          ],
          "name": "stdout"
        },
        {
          "output_type": "display_data",
          "data": {
            "image/png": "[encoded data removed]",
            "text/plain": [
              "<Figure size 432x288 with 2 Axes>"
            ]
          },
          "metadata": {
            "tags": [],
            "needs_background": "light"
          }
        }
      ]
    },
    {
      "cell_type": "code",
      "metadata": {
        "id": "FAPE8OdXVu-m",
        "outputId": "73cd3855-ceeb-43f3-d2be-1938b3348ff5",
        "colab": {
          "base_uri": "https://localhost:8080/",
          "height": 193
        }
      },
      "source": [
        "# label mapping\n",
        "labels = '''T-shirt/top\n",
        "Trouser\n",
        "Pullover\n",
        "Dress\n",
        "Coat\n",
        "Sandal\n",
        "Shirt\n",
        "Sneaker\n",
        "Bag\n",
        "Ankle boot'''.split(\"\\n\")\n",
        "labels"
      ],
      "execution_count": null,
      "outputs": [
        {
          "output_type": "execute_result",
          "data": {
            "text/plain": [
              "['T-shirt/top',\n",
              " 'Trouser',\n",
              " 'Pullover',\n",
              " 'Dress',\n",
              " 'Coat',\n",
              " 'Sandal',\n",
              " 'Shirt',\n",
              " 'Sneaker',\n",
              " 'Bag',\n",
              " 'Ankle boot']"
            ]
          },
          "metadata": {
            "tags": []
          },
          "execution_count": 32
        }
      ]
    },
    {
      "cell_type": "code",
      "metadata": {
        "id": "SxAX9OT8WOCG",
        "outputId": "0d73ff97-de1f-415e-9877-1a6d00ae359c",
        "colab": {
          "base_uri": "https://localhost:8080/",
          "height": 281
        }
      },
      "source": [
        "# Show the misclassified examples\n",
        "misclassified_img = np.where(p_test != y_test)[0]\n",
        "i = np.random.choice(misclassified_img)\n",
        "plt.imshow(x_test[i].reshape(28,28), cmap = 'gray')\n",
        "plt.title(\"True label: %s Predicted: %s \" %(labels[y_test[i]], labels[p_test[i]]));"
      ],
      "execution_count": null,
      "outputs": [
        {
          "output_type": "display_data",
          "data": {
            "image/png": "[encoded data removed]",
            "text/plain": [
              "<Figure size 432x288 with 1 Axes>"
            ]
          },
          "metadata": {
            "tags": [],
            "needs_background": "light"
          }
        }
      ]
    },
    {
      "cell_type": "code",
      "metadata": {
        "id": "ALpN9mbvYPBD",
        "outputId": "6926e695-f443-4ba1-fb8f-59ed9374c28c",
        "colab": {
          "base_uri": "https://localhost:8080/",
          "height": 281
        }
      },
      "source": [
        "# Show the misclassified examples\n",
        "misclassified_img = np.where(p_test != y_test)[0]\n",
        "i = np.random.choice(misclassified_img)\n",
        "plt.imshow(x_test[i].reshape(28,28), cmap = 'gray')\n",
        "plt.title(\"True label: %s Predicted: %s \" %(labels[y_test[i]], labels[p_test[i]]));"
      ],
      "execution_count": null,
      "outputs": [
        {
          "output_type": "display_data",
          "data": {
            "image/png": "[encoded data removed]",
            "text/plain": [
              "<Figure size 432x288 with 1 Axes>"
            ]
          },
          "metadata": {
            "tags": [],
            "needs_background": "light"
          }
        }
      ]
    }
  ]
}