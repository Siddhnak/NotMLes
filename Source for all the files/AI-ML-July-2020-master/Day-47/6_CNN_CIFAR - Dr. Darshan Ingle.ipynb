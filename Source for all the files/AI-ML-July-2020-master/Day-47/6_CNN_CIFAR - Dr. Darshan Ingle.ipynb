{
  "nbformat": 4,
  "nbformat_minor": 0,
  "metadata": {
    "colab": {
      "name": "6 CNN_CIFAR.ipynb",
      "provenance": [],
      "collapsed_sections": []
    },
    "kernelspec": {
      "name": "python3",
      "display_name": "Python 3"
    }
  },
  "cells": [
    {
      "cell_type": "code",
      "metadata": {
        "id": "jrDrZeMPZ7bA",
        "outputId": "aaab4b95-b6ae-45a2-cfdf-ec1f5df5502e",
        "colab": {
          "base_uri": "https://localhost:8080/",
          "height": 34
        }
      },
      "source": [
        "import tensorflow as tf\n",
        "print(tf.__version__)"
      ],
      "execution_count": null,
      "outputs": [
        {
          "output_type": "stream",
          "text": [
            "2.3.0\n"
          ],
          "name": "stdout"
        }
      ]
    },
    {
      "cell_type": "code",
      "metadata": {
        "id": "--VXfGLmbsMa"
      },
      "source": [
        "import numpy as np\n",
        "import matplotlib.pyplot as plt\n",
        "from tensorflow.keras.layers import Input, Conv2D, Dense, Flatten, Dropout, GlobalMaxPooling2D\n",
        "from tensorflow.keras.models import Model"
      ],
      "execution_count": null,
      "outputs": []
    },
    {
      "cell_type": "code",
      "metadata": {
        "id": "okl0V5e5cE7V"
      },
      "source": [
        "# Load the data\n",
        "cifar10 = tf.keras.datasets.cifar10"
      ],
      "execution_count": null,
      "outputs": []
    },
    {
      "cell_type": "code",
      "metadata": {
        "id": "zqX8nVuCcM76",
        "outputId": "578304f7-f853-4b30-94ed-88eb700fc039",
        "colab": {
          "base_uri": "https://localhost:8080/",
          "height": 52
        }
      },
      "source": [
        "(x_train, y_train), (x_test, y_test) = cifar10.load_data()\n",
        "x_train, x_test = x_train/255.0, x_test/255.0"
      ],
      "execution_count": null,
      "outputs": [
        {
          "output_type": "stream",
          "text": [
            "Downloading data from https://www.cs.toronto.edu/~kriz/cifar-10-python.tar.gz\n",
            "170500096/170498071 [==============================] - 2s 0us/step\n"
          ],
          "name": "stdout"
        }
      ]
    },
    {
      "cell_type": "code",
      "metadata": {
        "id": "cN6T5G3_cdop",
        "outputId": "fc70629f-cacd-456c-882a-34bdb8e8fb8b",
        "colab": {
          "base_uri": "https://localhost:8080/",
          "height": 34
        }
      },
      "source": [
        "x_train.shape"
      ],
      "execution_count": null,
      "outputs": [
        {
          "output_type": "execute_result",
          "data": {
            "text/plain": [
              "(50000, 32, 32, 3)"
            ]
          },
          "metadata": {
            "tags": []
          },
          "execution_count": 6
        }
      ]
    },
    {
      "cell_type": "code",
      "metadata": {
        "id": "bAmflGGgcfxM",
        "outputId": "11a6c4ed-8ab6-4c70-d942-882fc22af47e",
        "colab": {
          "base_uri": "https://localhost:8080/",
          "height": 34
        }
      },
      "source": [
        "x_test.shape"
      ],
      "execution_count": null,
      "outputs": [
        {
          "output_type": "execute_result",
          "data": {
            "text/plain": [
              "(10000, 32, 32, 3)"
            ]
          },
          "metadata": {
            "tags": []
          },
          "execution_count": 7
        }
      ]
    },
    {
      "cell_type": "code",
      "metadata": {
        "id": "d41YmG9uch3o",
        "outputId": "ec14f2ab-3a65-4f48-ad8f-ece52b2a22ca",
        "colab": {
          "base_uri": "https://localhost:8080/",
          "height": 34
        }
      },
      "source": [
        "x_train[0].shape"
      ],
      "execution_count": null,
      "outputs": [
        {
          "output_type": "execute_result",
          "data": {
            "text/plain": [
              "(32, 32, 3)"
            ]
          },
          "metadata": {
            "tags": []
          },
          "execution_count": 9
        }
      ]
    },
    {
      "cell_type": "code",
      "metadata": {
        "id": "W8HNVXzwcpCO",
        "outputId": "80ab1dd1-7682-4e11-efef-d602a4492b31",
        "colab": {
          "base_uri": "https://localhost:8080/",
          "height": 34
        }
      },
      "source": [
        "y_train.shape"
      ],
      "execution_count": null,
      "outputs": [
        {
          "output_type": "execute_result",
          "data": {
            "text/plain": [
              "(50000, 1)"
            ]
          },
          "metadata": {
            "tags": []
          },
          "execution_count": 10
        }
      ]
    },
    {
      "cell_type": "markdown",
      "metadata": {
        "id": "wjRsqFDwcuA6"
      },
      "source": [
        "Since the targets are 2D array N x 1 instead of N. Therefore, we need to flatten it."
      ]
    },
    {
      "cell_type": "code",
      "metadata": {
        "id": "3P2JqcmHdI5t"
      },
      "source": [
        "y_train, y_test = y_train.flatten(), y_test.flatten()"
      ],
      "execution_count": null,
      "outputs": []
    },
    {
      "cell_type": "code",
      "metadata": {
        "id": "rrpTVX8pdPJh",
        "outputId": "afe75743-1fb2-46ce-8771-a7108ca3b817",
        "colab": {
          "base_uri": "https://localhost:8080/",
          "height": 34
        }
      },
      "source": [
        "y_train.shape"
      ],
      "execution_count": null,
      "outputs": [
        {
          "output_type": "execute_result",
          "data": {
            "text/plain": [
              "(50000,)"
            ]
          },
          "metadata": {
            "tags": []
          },
          "execution_count": 12
        }
      ]
    },
    {
      "cell_type": "code",
      "metadata": {
        "id": "tj1i6zBxdRGb",
        "outputId": "77dd2644-1ac2-4e11-9607-80bc61c6c72f",
        "colab": {
          "base_uri": "https://localhost:8080/",
          "height": 34
        }
      },
      "source": [
        "y_test.shape"
      ],
      "execution_count": null,
      "outputs": [
        {
          "output_type": "execute_result",
          "data": {
            "text/plain": [
              "(10000,)"
            ]
          },
          "metadata": {
            "tags": []
          },
          "execution_count": 14
        }
      ]
    },
    {
      "cell_type": "code",
      "metadata": {
        "id": "4y7adKWadVvc",
        "outputId": "e0b32a71-575b-4eef-b703-a4414df8bc58",
        "colab": {
          "base_uri": "https://localhost:8080/",
          "height": 34
        }
      },
      "source": [
        "# Number of classes\n",
        "K = len(set(y_train))\n",
        "print(\"number of classes:\", K)"
      ],
      "execution_count": null,
      "outputs": [
        {
          "output_type": "stream",
          "text": [
            "number of classes: 10\n"
          ],
          "name": "stdout"
        }
      ]
    },
    {
      "cell_type": "code",
      "metadata": {
        "id": "iZ4JquZJeMf3",
        "outputId": "3d0ef3ca-8f30-4423-9ba9-677ced09996a",
        "colab": {
          "base_uri": "https://localhost:8080/",
          "height": 34
        }
      },
      "source": [
        "x_train.shape"
      ],
      "execution_count": null,
      "outputs": [
        {
          "output_type": "execute_result",
          "data": {
            "text/plain": [
              "(50000, 32, 32, 3)"
            ]
          },
          "metadata": {
            "tags": []
          },
          "execution_count": 16
        }
      ]
    },
    {
      "cell_type": "code",
      "metadata": {
        "id": "beeyu_nZeMq7",
        "outputId": "ac6d404b-5888-477f-f9de-4b21a9c5718a",
        "colab": {
          "base_uri": "https://localhost:8080/",
          "height": 34
        }
      },
      "source": [
        "x_train[0].shape"
      ],
      "execution_count": null,
      "outputs": [
        {
          "output_type": "execute_result",
          "data": {
            "text/plain": [
              "(32, 32, 3)"
            ]
          },
          "metadata": {
            "tags": []
          },
          "execution_count": 17
        }
      ]
    },
    {
      "cell_type": "code",
      "metadata": {
        "id": "aYr7jFVzdcUT"
      },
      "source": [
        "# Build the model using functional API\n",
        "\n",
        "i = Input(shape=x_train[0].shape)\n",
        "x = Conv2D(32, (3,3), strides=2, activation='relu')(i)\n",
        "x = Conv2D(64, (3,3), strides=2, activation='relu')(x)\n",
        "x = Conv2D(128, (3,3), strides=2, activation='relu')(x)\n",
        "x = Flatten()(x)\n",
        "x = Dropout(0.5)(x)\n",
        "# Dense layers NN design commences here\n",
        "x = Dense(1024, activation='relu')(x)\n",
        "x = Dropout(0.2)(x)\n",
        "x = Dense(K, activation='softmax')(x) # Output layer\n",
        "\n",
        "# Once we have the variable representing the input \"i\"\n",
        "# and the variable representing the output \"x\",\n",
        "# we can pass these into the Model() constructor\n",
        "\n",
        "model = Model(i,x)"
      ],
      "execution_count": null,
      "outputs": []
    },
    {
      "cell_type": "code",
      "metadata": {
        "id": "6ON_O3NXeVDK",
        "outputId": "370ed2b1-4b79-4f70-81c2-94d97cfc7569",
        "colab": {
          "base_uri": "https://localhost:8080/",
          "height": 565
        }
      },
      "source": [
        "# Compile and fit\n",
        "model.compile(optimizer='adam',\n",
        "              loss='sparse_categorical_crossentropy',\n",
        "              metrics=['accuracy']\n",
        "              )\n",
        "\n",
        "r = model.fit(x_train, y_train, validation_data=(x_test, y_test), epochs=15)"
      ],
      "execution_count": null,
      "outputs": [
        {
          "output_type": "stream",
          "text": [
            "Epoch 1/15\n",
            "1563/1563 [==============================] - 45s 29ms/step - loss: 1.5887 - accuracy: 0.4225 - val_loss: 1.2978 - val_accuracy: 0.5250\n",
            "Epoch 2/15\n",
            "1563/1563 [==============================] - 44s 28ms/step - loss: 1.2790 - accuracy: 0.5387 - val_loss: 1.1030 - val_accuracy: 0.6080\n",
            "Epoch 3/15\n",
            "1563/1563 [==============================] - 45s 29ms/step - loss: 1.1445 - accuracy: 0.5870 - val_loss: 1.0411 - val_accuracy: 0.6327\n",
            "Epoch 4/15\n",
            "1563/1563 [==============================] - 45s 29ms/step - loss: 1.0562 - accuracy: 0.6219 - val_loss: 0.9774 - val_accuracy: 0.6526\n",
            "Epoch 5/15\n",
            "1563/1563 [==============================] - 45s 29ms/step - loss: 0.9890 - accuracy: 0.6474 - val_loss: 0.9581 - val_accuracy: 0.6681\n",
            "Epoch 6/15\n",
            "1563/1563 [==============================] - 45s 29ms/step - loss: 0.9310 - accuracy: 0.6694 - val_loss: 0.9004 - val_accuracy: 0.6835\n",
            "Epoch 7/15\n",
            "1563/1563 [==============================] - 45s 29ms/step - loss: 0.8816 - accuracy: 0.6863 - val_loss: 0.8779 - val_accuracy: 0.6983\n",
            "Epoch 8/15\n",
            "1563/1563 [==============================] - 44s 28ms/step - loss: 0.8385 - accuracy: 0.7034 - val_loss: 0.8626 - val_accuracy: 0.7028\n",
            "Epoch 9/15\n",
            "1563/1563 [==============================] - 44s 28ms/step - loss: 0.7971 - accuracy: 0.7162 - val_loss: 0.8417 - val_accuracy: 0.7095\n",
            "Epoch 10/15\n",
            "1563/1563 [==============================] - 44s 28ms/step - loss: 0.7722 - accuracy: 0.7252 - val_loss: 0.8669 - val_accuracy: 0.6997\n",
            "Epoch 11/15\n",
            "1563/1563 [==============================] - 45s 29ms/step - loss: 0.7337 - accuracy: 0.7379 - val_loss: 0.8345 - val_accuracy: 0.7132\n",
            "Epoch 12/15\n",
            "1563/1563 [==============================] - 45s 29ms/step - loss: 0.7151 - accuracy: 0.7464 - val_loss: 0.8609 - val_accuracy: 0.7062\n",
            "Epoch 13/15\n",
            "1563/1563 [==============================] - 44s 28ms/step - loss: 0.6871 - accuracy: 0.7556 - val_loss: 0.8215 - val_accuracy: 0.7179\n",
            "Epoch 14/15\n",
            "1563/1563 [==============================] - 45s 29ms/step - loss: 0.6576 - accuracy: 0.7686 - val_loss: 0.8156 - val_accuracy: 0.7182\n",
            "Epoch 15/15\n",
            "1563/1563 [==============================] - 44s 28ms/step - loss: 0.6485 - accuracy: 0.7714 - val_loss: 0.8073 - val_accuracy: 0.7215\n"
          ],
          "name": "stdout"
        }
      ]
    },
    {
      "cell_type": "markdown",
      "metadata": {
        "id": "e5reoDGdec5-"
      },
      "source": [
        "Observation: We get an accuracy of around 77.14%. SO its clearer now that CIFAR10 is an even more difficult dataset than MNIST and Fashion MNIST."
      ]
    },
    {
      "cell_type": "code",
      "metadata": {
        "id": "3t0MwOyWeet1",
        "outputId": "099d422e-2019-418e-cbc8-001a468e0b48",
        "colab": {
          "base_uri": "https://localhost:8080/",
          "height": 282
        }
      },
      "source": [
        "# Plot loss per iteration\n",
        "plt.plot(r.history['loss'], label='loss')\n",
        "plt.plot(r.history['val_loss'], label='val_loss')\n",
        "plt.legend();"
      ],
      "execution_count": null,
      "outputs": [
        {
          "output_type": "execute_result",
          "data": {
            "text/plain": [
              "<matplotlib.legend.Legend at 0x7f46acb822e8>"
            ]
          },
          "metadata": {
            "tags": []
          },
          "execution_count": 20
        },
        {
          "output_type": "display_data",
          "data": {
            "image/png": "[encoded data removed]",
            "text/plain": [
              "<Figure size 432x288 with 1 Axes>"
            ]
          },
          "metadata": {
            "tags": [],
            "needs_background": "light"
          }
        }
      ]
    },
    {
      "cell_type": "markdown",
      "metadata": {
        "id": "CykCXVp0f-_0"
      },
      "source": [
        "Observation:\n",
        "\n",
        "Again, we see that the model if Overfitting and it will increase to overfit more if we run it for more number of epochs."
      ]
    },
    {
      "cell_type": "code",
      "metadata": {
        "id": "xcGINuljgA5L",
        "outputId": "581f3203-0469-48ac-90b9-e01c1d592eed",
        "colab": {
          "base_uri": "https://localhost:8080/",
          "height": 282
        }
      },
      "source": [
        "# Plot accuracy per iteration\n",
        "plt.plot(r.history['accuracy'], label='accuracy')\n",
        "plt.plot(r.history['val_accuracy'], label='val_accuracy')\n",
        "plt.legend()"
      ],
      "execution_count": null,
      "outputs": [
        {
          "output_type": "execute_result",
          "data": {
            "text/plain": [
              "<matplotlib.legend.Legend at 0x7f46acb37a58>"
            ]
          },
          "metadata": {
            "tags": []
          },
          "execution_count": 21
        },
        {
          "output_type": "display_data",
          "data": {
            "image/png": "[encoded data removed]",
            "text/plain": [
              "<Figure size 432x288 with 1 Axes>"
            ]
          },
          "metadata": {
            "tags": [],
            "needs_background": "light"
          }
        }
      ]
    },
    {
      "cell_type": "markdown",
      "metadata": {
        "id": "uSNi_HzXgGIH"
      },
      "source": [
        "Observation:\n",
        "\n",
        "We can see that the training accuracy has not yet converged while the validation accuracy has become steady. This is another sign that our model is overfitting and learning only the noise in the data."
      ]
    },
    {
      "cell_type": "code",
      "metadata": {
        "id": "OT8nB2xigHXS",
        "outputId": "2fd8fb37-79d6-4776-9de2-5e0ab8d17f9d",
        "colab": {
          "base_uri": "https://localhost:8080/",
          "height": 504
        }
      },
      "source": [
        "# Plot confusion matrix\n",
        "from sklearn.metrics import confusion_matrix\n",
        "import itertools\n",
        "\n",
        "def plot_confusion_matrix(cm, classes,\n",
        "                          normalize=False,\n",
        "                          title='Confusion matrix',\n",
        "                          cmap=plt.cm.Blues):\n",
        "  \"\"\"\n",
        "  This function prints and plots the confusion matrix.\n",
        "  Normalization can be applied by setting `normalize=True`.\n",
        "  \"\"\"\n",
        "  if normalize:\n",
        "      cm = cm.astype('float') / cm.sum(axis=1)[:, np.newaxis]\n",
        "      print(\"Normalized confusion matrix\")\n",
        "  else:\n",
        "      print('Confusion matrix, without normalization')\n",
        "\n",
        "  print(cm)\n",
        "\n",
        "  plt.imshow(cm, interpolation='nearest', cmap=cmap)\n",
        "  plt.title(title)\n",
        "  plt.colorbar()\n",
        "  tick_marks = np.arange(len(classes))\n",
        "  plt.xticks(tick_marks, classes, rotation=45)\n",
        "  plt.yticks(tick_marks, classes)\n",
        "\n",
        "  fmt = '.2f' if normalize else 'd'\n",
        "  thresh = cm.max() / 2.\n",
        "  for i, j in itertools.product(range(cm.shape[0]), range(cm.shape[1])):\n",
        "      plt.text(j, i, format(cm[i, j], fmt),\n",
        "               horizontalalignment=\"center\",\n",
        "               color=\"white\" if cm[i, j] > thresh else \"black\")\n",
        "\n",
        "  plt.tight_layout()\n",
        "  plt.ylabel('True label')\n",
        "  plt.xlabel('Predicted label')\n",
        "  plt.show()\n",
        "\n",
        "\n",
        "p_test = model.predict(x_test).argmax(axis=1)\n",
        "cm = confusion_matrix(y_test, p_test)\n",
        "plot_confusion_matrix(cm, list(range(10)))\n",
        "\n"
      ],
      "execution_count": null,
      "outputs": [
        {
          "output_type": "stream",
          "text": [
            "Confusion matrix, without normalization\n",
            "[[733  17  56  17  18  10  13  14  87  35]\n",
            " [ 13 843   5  10   6   4  15   2  30  72]\n",
            " [ 45   6 587  92  85  55  72  39  14   5]\n",
            " [ 17   8  52 551  54 189  69  35  14  11]\n",
            " [ 15   5  62  79 635  50  65  73  12   4]\n",
            " [  8   3  50 188  48 621  27  50   1   4]\n",
            " [  8   3  24  75  28  25 825   8   4   0]\n",
            " [ 10   4  26  46  36  61   6 798   5   8]\n",
            " [ 44  28  12  17  11  10   9   2 847  20]\n",
            " [ 33  84  13  25   2   6  12  18  32 775]]\n"
          ],
          "name": "stdout"
        },
        {
          "output_type": "display_data",
          "data": {
            "image/png": "[encoded data removed]",
            "text/plain": [
              "<Figure size 432x288 with 2 Axes>"
            ]
          },
          "metadata": {
            "tags": [],
            "needs_background": "light"
          }
        }
      ]
    },
    {
      "cell_type": "code",
      "metadata": {
        "id": "4F6MGMrggLB7",
        "outputId": "763d4a40-3e5d-4a03-cd52-30e731bd3d74",
        "colab": {
          "base_uri": "https://localhost:8080/",
          "height": 193
        }
      },
      "source": [
        "# label mapping\n",
        "labels = '''airplane\n",
        "automobile\n",
        "bird\n",
        "cat\n",
        "deer\n",
        "dog\n",
        "frog\n",
        "horse\n",
        "ship\n",
        "truck'''.split()\n",
        "\n",
        "labels"
      ],
      "execution_count": null,
      "outputs": [
        {
          "output_type": "execute_result",
          "data": {
            "text/plain": [
              "['airplane',\n",
              " 'automobile',\n",
              " 'bird',\n",
              " 'cat',\n",
              " 'deer',\n",
              " 'dog',\n",
              " 'frog',\n",
              " 'horse',\n",
              " 'ship',\n",
              " 'truck']"
            ]
          },
          "metadata": {
            "tags": []
          },
          "execution_count": 23
        }
      ]
    },
    {
      "cell_type": "code",
      "metadata": {
        "id": "LeNZMdMZgb61",
        "outputId": "f1eb9124-c0ca-4c42-889c-b071f47ceb17",
        "colab": {
          "base_uri": "https://localhost:8080/",
          "height": 281
        }
      },
      "source": [
        "# Show the misclassified examples\n",
        "misclassified_img = np.where(p_test != y_test)[0]\n",
        "i = np.random.choice(misclassified_img)\n",
        "plt.imshow(x_test[i], cmap = 'gray')\n",
        "plt.title(\"True label: %s Predicted: %s \" %(labels[y_test[i]], labels[p_test[i]]));"
      ],
      "execution_count": null,
      "outputs": [
        {
          "output_type": "display_data",
          "data": {
            "image/png": "[encoded data removed]",
            "text/plain": [
              "<Figure size 432x288 with 1 Axes>"
            ]
          },
          "metadata": {
            "tags": [],
            "needs_background": "light"
          }
        }
      ]
    },
    {
      "cell_type": "code",
      "metadata": {
        "id": "HZUopgJOiZlY",
        "outputId": "2c1f6cd0-06cf-41ee-d864-1090b4cfafb1",
        "colab": {
          "base_uri": "https://localhost:8080/",
          "height": 281
        }
      },
      "source": [
        "# Show the misclassified examples\n",
        "misclassified_img = np.where(p_test != y_test)[0]\n",
        "i = np.random.choice(misclassified_img)\n",
        "plt.imshow(x_test[i])\n",
        "plt.title(\"True label: %s Predicted: %s \" %(labels[y_test[i]], labels[p_test[i]]));"
      ],
      "execution_count": null,
      "outputs": [
        {
          "output_type": "display_data",
          "data": {
            "image/png": "[encoded data removed]",
            "text/plain": [
              "<Figure size 432x288 with 1 Axes>"
            ]
          },
          "metadata": {
            "tags": [],
            "needs_background": "light"
          }
        }
      ]
    },
    {
      "cell_type": "code",
      "metadata": {
        "id": "nfd7QiF0ihGx",
        "outputId": "b93244b4-4a9a-4efd-ba69-547f1c32861a",
        "colab": {
          "base_uri": "https://localhost:8080/",
          "height": 281
        }
      },
      "source": [
        "# Show the misclassified examples\n",
        "misclassified_img = np.where(p_test != y_test)[0]\n",
        "i = np.random.choice(misclassified_img)\n",
        "plt.imshow(x_test[i], cmap = 'gray')\n",
        "plt.title(\"True label: %s Predicted: %s \" %(labels[y_test[i]], labels[p_test[i]]));"
      ],
      "execution_count": null,
      "outputs": [
        {
          "output_type": "display_data",
          "data": {
            "image/png": "[encoded data removed]",
            "text/plain": [
              "<Figure size 432x288 with 1 Axes>"
            ]
          },
          "metadata": {
            "tags": [],
            "needs_background": "light"
          }
        }
      ]
    }
  ]
}