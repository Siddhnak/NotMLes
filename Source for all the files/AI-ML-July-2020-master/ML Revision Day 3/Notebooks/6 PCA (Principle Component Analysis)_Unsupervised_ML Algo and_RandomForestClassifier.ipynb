{
 "cells": [
  {
   "cell_type": "markdown",
   "metadata": {},
   "source": [
    "Implementing PCA in Python with Scikit-Learn\n",
    "------------------------------------------------------------------"
   ]
  },
  {
   "cell_type": "markdown",
   "metadata": {},
   "source": [
    "With the availability of high performance CPUs and GPUs, it is pretty much possible to solve every regression, classification, clustering and other related problems using machine learning and deep learning models. However, there are still various factors that cause performance bottlenecks while developing such models. \n",
    "\n",
    "Large number of features in the dataset is one of the factors that affect both the training time as well as accuracy of machine learning models. You have different options to deal with huge number of features in a dataset.\n",
    "\n",
    "1. Try to train the models on original number of features, which take days or weeks if the number of features is too high.\n",
    "\n",
    "2. Reduce the number of variables by merging correlated variables.\n",
    "\n",
    "3. __Extract the most important features from the dataset that are responsible for maximum variance in the output.__ Different statistical techniques are used for this purpose e.g. linear discriminant analysis, factor analysis, and principal component analysis (PCA)."
   ]
  },
  {
   "cell_type": "markdown",
   "metadata": {},
   "source": [
    "About Principal Component Analysis\n",
    "-----------------------------------------------------\n",
    "Principal component analysis, or PCA, is a statistical technique to convert high dimensional data to low dimensional data by selecting the most important features that capture maximum information about the dataset. The features are selected on the basis of variance that they cause in the output. The feature that causes highest variance is the first principal component. \n",
    "\n",
    "The feature that is responsible for second highest variance is considered the second principal component, and so on. It is important to mention that principal components do not have any correlation with each other."
   ]
  },
  {
   "cell_type": "markdown",
   "metadata": {},
   "source": [
    "Advantages of PCA\n",
    "----------------------------\n",
    "There are two main advantages of dimensionality reduction with PCA.\n",
    "\n",
    "1> The training time of the algorithms reduces significantly with less number of features.\n",
    "\n",
    "2> It is not always possible to analyze data in high dimensions. For instance if there are 100 features in a dataset. Total number of scatter plots required to visualize the data would be (100(100-1))/2 = 4950. Practically it is not possible to analyze data this way."
   ]
  },
  {
   "cell_type": "markdown",
   "metadata": {},
   "source": [
    "Normalization of Features\n",
    "-------------------------------------\n",
    "\n",
    "__It is imperative to mention that a feature set must be normalized before applying PCA__. For instance if a feature set has data expressed in units of Kilograms, Light years, or Millions, the variance scale is huge in the training set. If PCA is applied on such a feature set, the resultant loadings for features with high variance will also be large. Hence, principal components will be biased towards features with high variance, leading to false results.\n",
    "\n",
    "Finally, the last point to remember before we start coding is that __PCA is a statistical technique and can only be applied to **numeric data. Therefore, categorical features are required to be converted into numerical features before PCA can be applied.__"
   ]
  },
  {
   "cell_type": "markdown",
   "metadata": {},
   "source": [
    "Important Note\n",
    ">>IN PCA, if we have 10 features, it works on these 10 features and makes 10 new features which are weighted features of each of the above 10 features. Note, each feature is the weighted average of all 10 old features. Also note that the weighted coefficients for all new features is different."
   ]
  },
  {
   "cell_type": "markdown",
   "metadata": {},
   "source": [
    "PCA Main ideas:\n",
    "--\n",
    "\n",
    "https://www.youtube.com/watch?v=HMOI_lkzW08\n",
    "\n",
    "\n",
    "Want more detailed Understanding:\n",
    "https://www.youtube.com/watch?v=FgakZw6K1QQ&t=759s"
   ]
  },
  {
   "cell_type": "markdown",
   "metadata": {},
   "source": [
    "Implementing PCA with Scikit-Learn\n",
    "---------------------------------------------------"
   ]
  },
  {
   "cell_type": "code",
   "execution_count": 1,
   "metadata": {},
   "outputs": [
    {
     "data": {
      "text/html": [
       "<div>\n",
       "<style scoped>\n",
       "    .dataframe tbody tr th:only-of-type {\n",
       "        vertical-align: middle;\n",
       "    }\n",
       "\n",
       "    .dataframe tbody tr th {\n",
       "        vertical-align: top;\n",
       "    }\n",
       "\n",
       "    .dataframe thead th {\n",
       "        text-align: right;\n",
       "    }\n",
       "</style>\n",
       "<table border=\"1\" class=\"dataframe\">\n",
       "  <thead>\n",
       "    <tr style=\"text-align: right;\">\n",
       "      <th></th>\n",
       "      <th>sepal_length</th>\n",
       "      <th>sepal_width</th>\n",
       "      <th>petal_length</th>\n",
       "      <th>petal_width</th>\n",
       "      <th>species</th>\n",
       "    </tr>\n",
       "  </thead>\n",
       "  <tbody>\n",
       "    <tr>\n",
       "      <td>0</td>\n",
       "      <td>5.1</td>\n",
       "      <td>3.5</td>\n",
       "      <td>1.4</td>\n",
       "      <td>0.2</td>\n",
       "      <td>setosa</td>\n",
       "    </tr>\n",
       "    <tr>\n",
       "      <td>1</td>\n",
       "      <td>4.9</td>\n",
       "      <td>3.0</td>\n",
       "      <td>1.4</td>\n",
       "      <td>0.2</td>\n",
       "      <td>setosa</td>\n",
       "    </tr>\n",
       "    <tr>\n",
       "      <td>2</td>\n",
       "      <td>4.7</td>\n",
       "      <td>3.2</td>\n",
       "      <td>1.3</td>\n",
       "      <td>0.2</td>\n",
       "      <td>setosa</td>\n",
       "    </tr>\n",
       "    <tr>\n",
       "      <td>3</td>\n",
       "      <td>4.6</td>\n",
       "      <td>3.1</td>\n",
       "      <td>1.5</td>\n",
       "      <td>0.2</td>\n",
       "      <td>setosa</td>\n",
       "    </tr>\n",
       "    <tr>\n",
       "      <td>4</td>\n",
       "      <td>5.0</td>\n",
       "      <td>3.6</td>\n",
       "      <td>1.4</td>\n",
       "      <td>0.2</td>\n",
       "      <td>setosa</td>\n",
       "    </tr>\n",
       "  </tbody>\n",
       "</table>\n",
       "</div>"
      ],
      "text/plain": [
       "   sepal_length  sepal_width  petal_length  petal_width species\n",
       "0           5.1          3.5           1.4          0.2  setosa\n",
       "1           4.9          3.0           1.4          0.2  setosa\n",
       "2           4.7          3.2           1.3          0.2  setosa\n",
       "3           4.6          3.1           1.5          0.2  setosa\n",
       "4           5.0          3.6           1.4          0.2  setosa"
      ]
     },
     "execution_count": 1,
     "metadata": {},
     "output_type": "execute_result"
    }
   ],
   "source": [
    "# Importing Libraries\n",
    "import seaborn as sns\n",
    "import numpy as np\n",
    "import pandas as pd  \n",
    "import matplotlib.pyplot as plt\n",
    "from sklearn import svm, datasets\n",
    "\n",
    "# type your code h\n",
    "irisdata = sns.load_dataset('iris')\n",
    "irisdata.head()"
   ]
  },
  {
   "cell_type": "code",
   "execution_count": 4,
   "metadata": {},
   "outputs": [
    {
     "data": {
      "text/html": [
       "<div>\n",
       "<style scoped>\n",
       "    .dataframe tbody tr th:only-of-type {\n",
       "        vertical-align: middle;\n",
       "    }\n",
       "\n",
       "    .dataframe tbody tr th {\n",
       "        vertical-align: top;\n",
       "    }\n",
       "\n",
       "    .dataframe thead th {\n",
       "        text-align: right;\n",
       "    }\n",
       "</style>\n",
       "<table border=\"1\" class=\"dataframe\">\n",
       "  <thead>\n",
       "    <tr style=\"text-align: right;\">\n",
       "      <th></th>\n",
       "      <th>sepal_length</th>\n",
       "      <th>sepal_width</th>\n",
       "      <th>petal_length</th>\n",
       "      <th>petal_width</th>\n",
       "      <th>species</th>\n",
       "    </tr>\n",
       "  </thead>\n",
       "  <tbody>\n",
       "    <tr>\n",
       "      <td>145</td>\n",
       "      <td>6.7</td>\n",
       "      <td>3.0</td>\n",
       "      <td>5.2</td>\n",
       "      <td>2.3</td>\n",
       "      <td>virginica</td>\n",
       "    </tr>\n",
       "    <tr>\n",
       "      <td>146</td>\n",
       "      <td>6.3</td>\n",
       "      <td>2.5</td>\n",
       "      <td>5.0</td>\n",
       "      <td>1.9</td>\n",
       "      <td>virginica</td>\n",
       "    </tr>\n",
       "    <tr>\n",
       "      <td>147</td>\n",
       "      <td>6.5</td>\n",
       "      <td>3.0</td>\n",
       "      <td>5.2</td>\n",
       "      <td>2.0</td>\n",
       "      <td>virginica</td>\n",
       "    </tr>\n",
       "    <tr>\n",
       "      <td>148</td>\n",
       "      <td>6.2</td>\n",
       "      <td>3.4</td>\n",
       "      <td>5.4</td>\n",
       "      <td>2.3</td>\n",
       "      <td>virginica</td>\n",
       "    </tr>\n",
       "    <tr>\n",
       "      <td>149</td>\n",
       "      <td>5.9</td>\n",
       "      <td>3.0</td>\n",
       "      <td>5.1</td>\n",
       "      <td>1.8</td>\n",
       "      <td>virginica</td>\n",
       "    </tr>\n",
       "  </tbody>\n",
       "</table>\n",
       "</div>"
      ],
      "text/plain": [
       "     sepal_length  sepal_width  petal_length  petal_width    species\n",
       "145           6.7          3.0           5.2          2.3  virginica\n",
       "146           6.3          2.5           5.0          1.9  virginica\n",
       "147           6.5          3.0           5.2          2.0  virginica\n",
       "148           6.2          3.4           5.4          2.3  virginica\n",
       "149           5.9          3.0           5.1          1.8  virginica"
      ]
     },
     "execution_count": 4,
     "metadata": {},
     "output_type": "execute_result"
    }
   ],
   "source": [
    "irisdata.tail()"
   ]
  },
  {
   "cell_type": "code",
   "execution_count": 2,
   "metadata": {},
   "outputs": [
    {
     "data": {
      "text/html": [
       "<div>\n",
       "<style scoped>\n",
       "    .dataframe tbody tr th:only-of-type {\n",
       "        vertical-align: middle;\n",
       "    }\n",
       "\n",
       "    .dataframe tbody tr th {\n",
       "        vertical-align: top;\n",
       "    }\n",
       "\n",
       "    .dataframe thead th {\n",
       "        text-align: right;\n",
       "    }\n",
       "</style>\n",
       "<table border=\"1\" class=\"dataframe\">\n",
       "  <thead>\n",
       "    <tr style=\"text-align: right;\">\n",
       "      <th></th>\n",
       "      <th>sepal_length</th>\n",
       "      <th>sepal_width</th>\n",
       "      <th>petal_length</th>\n",
       "      <th>petal_width</th>\n",
       "      <th>species</th>\n",
       "    </tr>\n",
       "  </thead>\n",
       "  <tbody>\n",
       "    <tr>\n",
       "      <td>71</td>\n",
       "      <td>6.1</td>\n",
       "      <td>2.8</td>\n",
       "      <td>4.0</td>\n",
       "      <td>1.3</td>\n",
       "      <td>versicolor</td>\n",
       "    </tr>\n",
       "    <tr>\n",
       "      <td>101</td>\n",
       "      <td>5.8</td>\n",
       "      <td>2.7</td>\n",
       "      <td>5.1</td>\n",
       "      <td>1.9</td>\n",
       "      <td>virginica</td>\n",
       "    </tr>\n",
       "    <tr>\n",
       "      <td>70</td>\n",
       "      <td>5.9</td>\n",
       "      <td>3.2</td>\n",
       "      <td>4.8</td>\n",
       "      <td>1.8</td>\n",
       "      <td>versicolor</td>\n",
       "    </tr>\n",
       "    <tr>\n",
       "      <td>137</td>\n",
       "      <td>6.4</td>\n",
       "      <td>3.1</td>\n",
       "      <td>5.5</td>\n",
       "      <td>1.8</td>\n",
       "      <td>virginica</td>\n",
       "    </tr>\n",
       "    <tr>\n",
       "      <td>62</td>\n",
       "      <td>6.0</td>\n",
       "      <td>2.2</td>\n",
       "      <td>4.0</td>\n",
       "      <td>1.0</td>\n",
       "      <td>versicolor</td>\n",
       "    </tr>\n",
       "  </tbody>\n",
       "</table>\n",
       "</div>"
      ],
      "text/plain": [
       "     sepal_length  sepal_width  petal_length  petal_width     species\n",
       "71            6.1          2.8           4.0          1.3  versicolor\n",
       "101           5.8          2.7           5.1          1.9   virginica\n",
       "70            5.9          3.2           4.8          1.8  versicolor\n",
       "137           6.4          3.1           5.5          1.8   virginica\n",
       "62            6.0          2.2           4.0          1.0  versicolor"
      ]
     },
     "execution_count": 2,
     "metadata": {},
     "output_type": "execute_result"
    }
   ],
   "source": [
    "irisdata.sample(5)"
   ]
  },
  {
   "cell_type": "code",
   "execution_count": 5,
   "metadata": {},
   "outputs": [
    {
     "data": {
      "text/plain": [
       "(150, 5)"
      ]
     },
     "execution_count": 5,
     "metadata": {},
     "output_type": "execute_result"
    }
   ],
   "source": [
    "irisdata.shape"
   ]
  },
  {
   "cell_type": "code",
   "execution_count": 6,
   "metadata": {},
   "outputs": [
    {
     "name": "stdout",
     "output_type": "stream",
     "text": [
      "[[ 0.94136185 -1.25182181  1.07945685  0.70079785]\n",
      " [-0.16733041 -0.78312098  0.67484116  0.83386073]\n",
      " [ 0.07904565 -1.95487306  0.03901651 -0.36370521]\n",
      " [-0.16733041 -0.78312098  0.09681875 -0.36370521]\n",
      " [-1.02964661  1.09168236 -1.46384175 -1.42820827]\n",
      " [-1.89196281 -0.31442014 -1.46384175 -1.42820827]\n",
      " [ 1.06454988 -0.08006973  0.90605013  1.0999865 ]\n",
      " [-1.52239872  0.38863111 -1.521644   -1.42820827]\n",
      " [-0.29051843 -1.25182181  0.61703892  0.96692361]\n",
      " [-0.90645858  2.49778486 -1.40603951 -1.56127116]\n",
      " [-1.27602266  1.32603278 -1.46384175 -1.56127116]\n",
      " [ 1.557302   -0.08006973  1.07945685  0.43467208]\n",
      " [ 1.31092594  0.38863111  0.4436322   0.16854632]\n",
      " [ 0.6949858  -0.54877056  0.38582996  0.3016092 ]\n",
      " [ 1.06454988 -0.54877056  0.50143444  0.16854632]\n",
      " [ 2.4196182   1.79473361  1.4262703   0.96692361]\n",
      " [-0.66008252 -0.08006973  0.32802772  0.3016092 ]\n",
      " [ 1.80367805 -0.54877056  1.25286357  0.83386073]\n",
      " [-1.64558675  0.38863111 -1.46384175 -1.42820827]\n",
      " [ 0.44860974 -1.25182181  0.55923668  0.3016092 ]\n",
      " [-0.16733041 -0.78312098  0.67484116  0.83386073]\n",
      " [ 0.94136185  0.15428069  0.4436322   0.3016092 ]\n",
      " [-0.16733041 -0.78312098 -0.01878573 -0.09757945]\n",
      " [ 0.32542171 -0.31442014  0.21242324  0.03548344]\n",
      " [ 0.07904565 -0.08006973  0.50143444  0.70079785]\n",
      " [ 1.18773791  0.15428069  0.84824789  1.0999865 ]\n",
      " [-0.53689449 -1.01747139  0.27022548 -0.09757945]\n",
      " [ 0.20223368 -0.54877056  0.03901651  0.03548344]\n",
      " [ 0.57179777 -0.31442014  0.21242324  0.03548344]\n",
      " [ 0.20223368 -1.01747139  0.96385237  0.16854632]\n",
      " [-0.16733041 -1.01747139  0.03901651 -0.09757945]\n",
      " [-0.41370646 -1.25182181 -0.01878573 -0.23064233]\n",
      " [ 0.44860974 -0.78312098  0.55923668  0.70079785]\n",
      " [ 0.44860974 -0.54877056  0.67484116  0.3016092 ]\n",
      " [ 2.17324214 -1.01747139  1.7152815   1.36611226]\n",
      " [-0.90645858  0.85733194 -1.46384175 -1.42820827]\n",
      " [ 0.44860974 -1.25182181  0.61703892  0.83386073]\n",
      " [ 0.20223368 -0.54877056  0.4436322  -0.09757945]\n",
      " [-1.39921069 -0.08006973 -1.46384175 -1.29514539]\n",
      " [ 1.18773791  0.15428069  0.55923668  0.3016092 ]\n",
      " [ 0.44860974 -1.72052264  0.27022548  0.03548344]\n",
      " [ 0.57179777 -0.54877056  0.96385237  1.0999865 ]\n",
      " [ 0.94136185  0.15428069  0.27022548  0.16854632]\n",
      " [ 0.07904565 -0.78312098  0.67484116  0.43467208]\n",
      " [-1.27602266  0.15428069 -1.40603951 -1.42820827]\n",
      " [ 2.17324214 -0.54877056  1.59967702  0.96692361]\n",
      " [ 0.94136185  0.62298153  1.02165461  1.0999865 ]\n",
      " [-1.15283464  0.38863111 -1.57944624 -1.42820827]\n",
      " [ 1.18773791  0.15428069  0.67484116  1.36611226]\n",
      " [-0.04414238  0.38863111  0.50143444  0.70079785]\n",
      " [-0.29051843  3.20083611 -1.40603951 -1.16208251]\n",
      " [-1.15283464 -2.4235739  -0.24999469 -0.36370521]\n",
      " [ 0.6949858  -0.08006973  1.07945685  1.23304938]\n",
      " [-0.29051843 -0.54877056  0.09681875  0.03548344]\n",
      " [-0.53689449  1.09168236 -1.521644   -1.42820827]\n",
      " [-0.66008252  0.85733194 -1.40603951 -1.16208251]\n",
      " [ 0.44860974 -0.31442014  0.96385237  0.70079785]\n",
      " [-0.41370646 -0.31442014 -0.19219245  0.03548344]\n",
      " [ 0.20223368 -0.08006973  0.55923668  0.70079785]\n",
      " [-1.15283464  1.09168236 -1.34823727 -0.89595674]\n",
      " [ 0.20223368 -0.31442014  0.4436322   0.16854632]\n",
      " [-1.02964661  1.09168236 -1.46384175 -1.29514539]\n",
      " [ 0.44860974  0.62298153  0.4436322   0.43467208]\n",
      " [-1.02964661  0.62298153 -1.29043503 -1.02901963]\n",
      " [-0.53689449 -1.25182181  0.03901651  0.03548344]\n",
      " [ 0.07904565 -1.95487306  0.61703892  0.3016092 ]\n",
      " [ 0.07904565 -0.31442014  0.32802772  0.3016092 ]\n",
      " [-1.64558675  0.15428069 -1.40603951 -1.42820827]\n",
      " [-0.29051843 -0.54877056  0.32802772  0.03548344]\n",
      " [ 0.6949858  -0.08006973  0.73264341  0.96692361]\n",
      " [-1.15283464 -0.08006973 -1.34823727 -1.42820827]\n",
      " [-0.90645858  1.09168236 -1.40603951 -1.42820827]\n",
      " [ 2.17324214  1.79473361  1.59967702  1.23304938]\n",
      " [ 2.05005411 -0.08006973  1.54187478  1.0999865 ]\n",
      " [ 0.44860974  0.62298153  1.19506133  1.63223803]\n",
      " [ 0.57179777  0.38863111  0.79044565  1.36611226]\n",
      " [ 0.32542171 -1.95487306  0.32802772  0.3016092 ]\n",
      " [ 1.18773791  0.38863111  1.02165461  1.36611226]\n",
      " [ 0.57179777 -0.78312098  0.79044565  0.83386073]\n",
      " [-1.64558675  1.32603278 -1.69505072 -1.42820827]\n",
      " [-1.76877478 -1.72052264 -1.521644   -1.29514539]\n",
      " [-1.02964661  1.79473361 -1.34823727 -1.42820827]\n",
      " [-0.53689449 -1.48617223 -0.13439021 -0.36370521]\n",
      " [-1.02964661  1.79473361 -1.17483055 -1.16208251]\n",
      " [ 0.6949858   0.38863111  0.67484116  0.96692361]\n",
      " [ 0.57179777  0.38863111  0.32802772  0.3016092 ]\n",
      " [ 1.06454988  0.38863111  1.13725909  1.36611226]\n",
      " [-1.27602266 -0.08006973 -1.46384175 -1.42820827]\n",
      " [ 0.32542171  0.85733194  0.84824789  1.36611226]\n",
      " [-1.27602266 -1.48617223 -0.36559917 -0.36370521]\n",
      " [-0.66008252  1.56038319 -1.40603951 -1.42820827]\n",
      " [-1.39921069  0.85733194 -1.34823727 -1.42820827]\n",
      " [ 0.94136185 -0.08006973  0.61703892  0.56773497]\n",
      " [-0.16733041  2.26343444 -1.57944624 -1.42820827]\n",
      " [-1.52239872  0.38863111 -1.34823727 -1.42820827]\n",
      " [ 0.94136185  0.62298153  1.02165461  1.63223803]\n",
      " [-1.15283464  0.85733194 -1.34823727 -1.16208251]\n",
      " [-0.41370646 -0.08006973  0.09681875  0.03548344]\n",
      " [-0.66008252  0.85733194 -1.29043503 -1.42820827]\n",
      " [ 2.17324214 -0.08006973  1.25286357  1.36611226]\n",
      " [-0.29051843 -0.31442014  0.15462099  0.03548344]\n",
      " [-0.90645858 -0.78312098 -0.01878573  0.16854632]\n",
      " [-0.04414238 -0.08006973  0.15462099  0.3016092 ]\n",
      " [-0.53689449 -1.48617223 -0.07658797 -0.23064233]\n",
      " [ 0.44860974  0.85733194  0.96385237  1.49917515]\n",
      " [-0.53689449  2.73213528 -1.46384175 -1.42820827]\n",
      " [-0.16733041 -0.54877056  0.67484116  1.49917515]\n",
      " [ 0.6949858  -0.08006973  0.90605013  0.70079785]\n",
      " [-1.15283464  1.09168236 -1.521644   -1.29514539]\n",
      " [-2.01515084 -0.08006973 -1.63724848 -1.56127116]\n",
      " [ 0.20223368 -0.08006973  0.38582996  0.16854632]\n",
      " [ 0.94136185 -0.08006973  0.73264341  1.36611226]\n",
      " [ 0.57179777 -0.54877056  0.96385237  1.23304938]\n",
      " [-1.02964661  0.85733194 -1.40603951 -1.42820827]\n",
      " [ 0.81817382 -0.08006973  0.27022548  0.16854632]\n",
      " [-1.15283464  1.32603278 -1.46384175 -1.42820827]\n",
      " [ 0.94136185  0.15428069  0.96385237  1.49917515]\n",
      " [ 0.57179777  0.15428069  0.90605013  0.70079785]\n",
      " [-0.41370646 -0.78312098  0.15462099  0.03548344]\n",
      " [ 1.43411397 -0.08006973  1.13725909  1.0999865 ]]\n"
     ]
    }
   ],
   "source": [
    "# type your code here7\n",
    "X = irisdata.drop('species', axis=1)\n",
    "y = irisdata['species']\n",
    "\n",
    "# Train Test Split -> use train_test_split()\n",
    "from sklearn.model_selection import train_test_split\n",
    "X_train, X_test, y_train, y_test = train_test_split(X,y,test_size = 0.20)\n",
    "\n",
    "from sklearn.preprocessing import StandardScaler\n",
    "sc = StandardScaler()\n",
    "X_train = sc.fit_transform(X_train)\n",
    "X_test = sc.transform(X_test)\n",
    "print(X_train)"
   ]
  },
  {
   "cell_type": "code",
   "execution_count": 7,
   "metadata": {},
   "outputs": [],
   "source": [
    "from sklearn.decomposition import PCA\n",
    "pca = PCA()\n",
    "X_train = pca.fit_transform(X_train)\n",
    "X_test = pca.transform(X_test)"
   ]
  },
  {
   "cell_type": "markdown",
   "metadata": {},
   "source": [
    "In the code above, we create a PCA object named pca. We did not specify the number of components in the constructor. Hence, all four of the features in the feature set will be returned for both the training and test sets.\n",
    "\n",
    "The PCA class contains explained_variance_ratio_ which returns the variance caused by each of the principal components."
   ]
  },
  {
   "cell_type": "code",
   "execution_count": 9,
   "metadata": {},
   "outputs": [
    {
     "data": {
      "text/plain": [
       "array([0.72717031, 0.22940862, 0.03774842, 0.00567264])"
      ]
     },
     "execution_count": 9,
     "metadata": {},
     "output_type": "execute_result"
    }
   ],
   "source": [
    "explained_variance = pca.explained_variance_ratio_\n",
    "explained_variance"
   ]
  },
  {
   "cell_type": "markdown",
   "metadata": {},
   "source": [
    "~this analysis could defer for each participant depending on the data :\n",
    "It can be seen that first principal component is responsible for 74.30% variance. Similarly, the second principal component causes 21.74% variance in the dataset. Collectively we can say that (72.22 + 23.9) 96.21% percent of the classification information contained in the feature set is captured by the first two principal components."
   ]
  },
  {
   "cell_type": "code",
   "execution_count": 10,
   "metadata": {},
   "outputs": [],
   "source": [
    "from sklearn.decomposition import PCA\n",
    "pca = PCA(n_components=2)\n",
    "X_train = pca.fit_transform(X_train)\n",
    "X_test = pca.transform(X_test)"
   ]
  },
  {
   "cell_type": "code",
   "execution_count": 11,
   "metadata": {},
   "outputs": [
    {
     "data": {
      "text/plain": [
       "array([0.72717031, 0.22940862])"
      ]
     },
     "execution_count": 11,
     "metadata": {},
     "output_type": "execute_result"
    }
   ],
   "source": [
    "explained_variance = pca.explained_variance_ratio_\n",
    "explained_variance"
   ]
  },
  {
   "cell_type": "code",
   "execution_count": 12,
   "metadata": {},
   "outputs": [],
   "source": [
    "from sklearn.ensemble import RandomForestClassifier\n",
    "classifier = RandomForestClassifier(max_depth=2, random_state=0)\n",
    "classifier.fit(X_train,y_train)\n",
    "\n",
    "y_pred = classifier.predict(X_test)\n",
    "\n",
    "from sklearn.metrics import confusion_matrix, accuracy_score\n",
    "cm = confusion_matrix(y_test,y_pred)\n",
    "ac = accuracy_score(y_test,y_pred)"
   ]
  },
  {
   "cell_type": "code",
   "execution_count": 13,
   "metadata": {},
   "outputs": [
    {
     "data": {
      "text/plain": [
       "array([[15,  0,  0],\n",
       "       [ 0,  7,  1],\n",
       "       [ 0,  4,  3]], dtype=int64)"
      ]
     },
     "execution_count": 13,
     "metadata": {},
     "output_type": "execute_result"
    }
   ],
   "source": [
    "cm"
   ]
  },
  {
   "cell_type": "code",
   "execution_count": 14,
   "metadata": {},
   "outputs": [
    {
     "data": {
      "text/plain": [
       "0.8333333333333334"
      ]
     },
     "execution_count": 14,
     "metadata": {},
     "output_type": "execute_result"
    }
   ],
   "source": [
    "ac"
   ]
  },
  {
   "cell_type": "code",
   "execution_count": 15,
   "metadata": {},
   "outputs": [],
   "source": [
    "from sklearn.decomposition import PCA\n",
    "pca = PCA(n_components=1)\n",
    "X_train = pca.fit_transform(X_train)\n",
    "X_test = pca.transform(X_test)"
   ]
  },
  {
   "cell_type": "code",
   "execution_count": 16,
   "metadata": {},
   "outputs": [],
   "source": [
    "from sklearn.ensemble import RandomForestClassifier\n",
    "classifier = RandomForestClassifier(max_depth=2, random_state=0)\n",
    "classifier.fit(X_train,y_train)\n",
    "\n",
    "y_pred = classifier.predict(X_test)\n",
    "\n",
    "from sklearn.metrics import confusion_matrix, accuracy_score\n",
    "cm = confusion_matrix(y_test,y_pred)\n",
    "ac = accuracy_score(y_test,y_pred)"
   ]
  },
  {
   "cell_type": "code",
   "execution_count": 17,
   "metadata": {},
   "outputs": [
    {
     "data": {
      "text/plain": [
       "array([[15,  0,  0],\n",
       "       [ 0,  8,  0],\n",
       "       [ 0,  3,  4]], dtype=int64)"
      ]
     },
     "execution_count": 17,
     "metadata": {},
     "output_type": "execute_result"
    }
   ],
   "source": [
    "cm"
   ]
  },
  {
   "cell_type": "code",
   "execution_count": 18,
   "metadata": {},
   "outputs": [
    {
     "data": {
      "text/plain": [
       "0.9"
      ]
     },
     "execution_count": 18,
     "metadata": {},
     "output_type": "execute_result"
    }
   ],
   "source": [
    "ac"
   ]
  },
  {
   "cell_type": "code",
   "execution_count": 20,
   "metadata": {},
   "outputs": [],
   "source": [
    "from sklearn.decomposition import PCA\n",
    "pca = PCA()\n",
    "X_train = pca.fit_transform(X_train)\n",
    "X_test = pca.transform(X_test)"
   ]
  },
  {
   "cell_type": "code",
   "execution_count": 21,
   "metadata": {},
   "outputs": [],
   "source": [
    "from sklearn.ensemble import RandomForestClassifier\n",
    "classifier = RandomForestClassifier(max_depth=2, random_state=0)\n",
    "classifier.fit(X_train,y_train)\n",
    "\n",
    "y_pred = classifier.predict(X_test)\n",
    "\n",
    "from sklearn.metrics import confusion_matrix, accuracy_score\n",
    "cm = confusion_matrix(y_test,y_pred)\n",
    "ac = accuracy_score(y_test,y_pred)"
   ]
  },
  {
   "cell_type": "code",
   "execution_count": 22,
   "metadata": {},
   "outputs": [
    {
     "data": {
      "text/plain": [
       "array([[15,  0,  0],\n",
       "       [ 0,  8,  0],\n",
       "       [ 0,  3,  4]], dtype=int64)"
      ]
     },
     "execution_count": 22,
     "metadata": {},
     "output_type": "execute_result"
    }
   ],
   "source": [
    "cm"
   ]
  },
  {
   "cell_type": "code",
   "execution_count": 23,
   "metadata": {},
   "outputs": [
    {
     "data": {
      "text/plain": [
       "0.9"
      ]
     },
     "execution_count": 23,
     "metadata": {},
     "output_type": "execute_result"
    }
   ],
   "source": [
    "ac"
   ]
  },
  {
   "cell_type": "markdown",
   "metadata": {},
   "source": [
    "It can be seen from the output that with only one feature, the random forest algorithm is able to correctly predict 28 out of 30 instances, resulting in 93.33% accuracy. **(This accuracy value will change at train-test dataset changes)"
   ]
  },
  {
   "cell_type": "code",
   "execution_count": null,
   "metadata": {},
   "outputs": [],
   "source": [
    "# Results with 2 and 3 Principal Components\n",
    "#------------------------------------------\n",
    "# -- self try -- from start of this notebook."
   ]
  }
 ],
 "metadata": {
  "kernelspec": {
   "display_name": "Python 3",
   "language": "python",
   "name": "python3"
  },
  "language_info": {
   "codemirror_mode": {
    "name": "ipython",
    "version": 3
   },
   "file_extension": ".py",
   "mimetype": "text/x-python",
   "name": "python",
   "nbconvert_exporter": "python",
   "pygments_lexer": "ipython3",
   "version": "3.7.4"
  },
  "toc": {
   "base_numbering": 1,
   "nav_menu": {},
   "number_sections": true,
   "sideBar": true,
   "skip_h1_title": false,
   "title_cell": "Table of Contents",
   "title_sidebar": "Contents",
   "toc_cell": false,
   "toc_position": {
    "height": "calc(100% - 180px)",
    "left": "10px",
    "top": "150px",
    "width": "202.558px"
   },
   "toc_section_display": true,
   "toc_window_display": false
  }
 },
 "nbformat": 4,
 "nbformat_minor": 2
}
